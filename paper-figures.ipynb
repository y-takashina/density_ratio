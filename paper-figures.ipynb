{
 "cells": [
  {
   "cell_type": "code",
   "execution_count": 1,
   "metadata": {},
   "outputs": [
    {
     "data": {
      "text/html": [
       "<script>requirejs.config({paths: { 'plotly': ['https://cdn.plot.ly/plotly-latest.min']},});if(!window.Plotly) {{require(['plotly'],function(plotly) {window.Plotly=plotly;});}}</script>"
      ],
      "text/vnd.plotly.v1+html": [
       "<script>requirejs.config({paths: { 'plotly': ['https://cdn.plot.ly/plotly-latest.min']},});if(!window.Plotly) {{require(['plotly'],function(plotly) {window.Plotly=plotly;});}}</script>"
      ]
     },
     "metadata": {},
     "output_type": "display_data"
    }
   ],
   "source": [
    "import tqdm\n",
    "import numpy as np\n",
    "import scipy.stats\n",
    "import pandas as pd\n",
    "import itertools\n",
    "import sklearn\n",
    "import sklearn.datasets\n",
    "from sklearn import svm\n",
    "from sklearn.ensemble import RandomForestRegressor\n",
    "from sklearn.model_selection import KFold\n",
    "from sklearn.feature_selection import mutual_info_regression\n",
    "import sklearn.covariance\n",
    "import networkx as nx\n",
    "import matplotlib.pyplot as plt\n",
    "% matplotlib inline\n",
    "import matplotlib\n",
    "matplotlib.rcParams['pdf.fonttype'] = 42\n",
    "import seaborn as sns\n",
    "sns.set_style('ticks')\n",
    "palette = sns.color_palette(\"RdBu_r\", n_colors=25)\n",
    "import plotly\n",
    "plotly.offline.init_notebook_mode(connected=True)\n",
    "\n",
    "import knn"
   ]
  },
  {
   "cell_type": "code",
   "execution_count": null,
   "metadata": {
    "collapsed": true
   },
   "outputs": [],
   "source": [
    "# cluster = (np.arange(1000) < 500).astype(int)\n",
    "# cov1 = [[1, 0.5], [0.5, 1]]\n",
    "# cov2 = [[1, -0.5], [-0.5, 1]]\n",
    "# X1 = scipy.stats.multivariate_normal(mean=[0, -4], cov=cov1).rvs(500)\n",
    "# X2 = scipy.stats.multivariate_normal(mean=[0, +4], cov=cov2).rvs(500)\n",
    "# X = np.vstack([X1, X2])\n",
    "# X = (X - np.mean(X, axis=0)) / np.std(X, axis=0)\n",
    "# X = np.hstack([X, cluster.reshape(-1, 1)])\n",
    "# X.shape"
   ]
  },
  {
   "cell_type": "code",
   "execution_count": null,
   "metadata": {
    "collapsed": true
   },
   "outputs": [],
   "source": [
    "cluster = (np.arange(4000) < 3000).astype(int)\n",
    "X1 = scipy.stats.multivariate_normal(mean=[+8, 0], cov=np.eye(2)).rvs(1000)\n",
    "X2 = scipy.stats.multivariate_normal(mean=[-8, 0], cov=np.eye(2)).rvs(1000)\n",
    "X3 = scipy.stats.multivariate_normal(mean=[0, +8], cov=np.eye(2)).rvs(1000)\n",
    "X4 = scipy.stats.multivariate_normal(mean=[0, -8], cov=np.eye(2)).rvs(1000)\n",
    "X = np.vstack([X1, X2, X3, X4])\n",
    "X = (X - np.mean(X, axis=0)) / np.std(X, axis=0)\n",
    "X = np.hstack([X, cluster.reshape(-1, 1)])\n",
    "X.shape"
   ]
  },
  {
   "cell_type": "code",
   "execution_count": null,
   "metadata": {
    "collapsed": true
   },
   "outputs": [],
   "source": [
    "sns.pairplot(pd.DataFrame(X), hue=2)\n",
    "plt.savefig('output/pair-gmm.pdf', format='pdf')"
   ]
  },
  {
   "cell_type": "code",
   "execution_count": null,
   "metadata": {
    "collapsed": true
   },
   "outputs": [],
   "source": [
    "n, d = X.shape\n",
    "edges = knn.learn_mrf(X)\n",
    "g = nx.Graph()\n",
    "g.add_nodes_from(range(d))\n",
    "g.add_edges_from(edges)\n",
    "adj = nx.adjacency_matrix(g).toarray().astype(float)"
   ]
  },
  {
   "cell_type": "code",
   "execution_count": null,
   "metadata": {
    "collapsed": true,
    "scrolled": true
   },
   "outputs": [],
   "source": [
    "gl = sklearn.covariance.GraphLassoCV(assume_centered=True)\n",
    "gl.fit(X)\n",
    "corr = gl.precision_\n",
    "corr = corr / np.sqrt(np.diag(corr)).reshape(1, -1) / np.sqrt(np.diag(corr)).reshape(-1, 1)"
   ]
  },
  {
   "cell_type": "code",
   "execution_count": null,
   "metadata": {
    "collapsed": true
   },
   "outputs": [],
   "source": [
    "ground_truth = np.ones([3, 3], dtype=float)\n",
    "ground_truth[0, 2] = ground_truth[2, 0] = 0\n",
    "ground_truth[np.eye(3, dtype=bool)] = None\n",
    "corr[np.eye(3, dtype=bool)] = None\n",
    "adj[np.eye(3, dtype=bool)] = None\n",
    "\n",
    "f, axes = plt.subplots(1, 3, figsize=[10, 4])\n",
    "axes[0].set_title('Ground truth', fontsize=15)\n",
    "axes[1].set_title('Graphical lasso (CV)', fontsize=15)\n",
    "axes[2].set_title('Proposed ($\\lambda = 0$)', fontsize=15)\n",
    "labels = ['$X_1$', '$X_2$', '$X_3$']\n",
    "sns.heatmap(ground_truth, annot=True, center=0, ax=axes[0], cmap=palette, cbar=False, xticklabels=labels, yticklabels=labels)\n",
    "sns.heatmap(corr, annot=True, center=0, ax=axes[1], cmap=palette, cbar=False, xticklabels=labels, yticklabels=[])\n",
    "sns.heatmap(adj, annot=True, center=0, ax=axes[2], cmap=palette, cbar=False, xticklabels=labels, yticklabels=[])\n",
    "plt.tight_layout()\n",
    "plt.savefig('output/heat-gmm.pdf', format='pdf')"
   ]
  },
  {
   "cell_type": "code",
   "execution_count": null,
   "metadata": {
    "collapsed": true
   },
   "outputs": [],
   "source": [
    "def heat_mi(X, ks=[3, 5, 15]):\n",
    "    m = len(ks)\n",
    "    f, axes = plt.subplots(1, m, figsize=[3 * m + 1, 3])\n",
    "    n, d = X.shape\n",
    "    for l, k in enumerate(ks):\n",
    "        mis = np.eye(d)\n",
    "        for i, j in [(i, j) for i in range(d) for j in range(d) if i != j]:\n",
    "            x = X[:, [i]]\n",
    "            y = X[:, [j]]\n",
    "            mis[i, j] = knn.mi_knn(x, y, k=3)\n",
    "\n",
    "        mis[mis < 0] = 0\n",
    "        mis[np.eye(d, dtype=bool)] = None\n",
    "        sns.heatmap(mis, annot=True, ax=axes[l], center=0, cmap=palette, cbar=False)\n",
    "\n",
    "def heat_cmi(X, ks=[3, 5, 15]):\n",
    "    m = len(ks)\n",
    "    f, axes = plt.subplots(1, m, figsize=[3 * m + 1, 3])\n",
    "    n, d = X.shape\n",
    "    for l, k in enumerate(ks):\n",
    "        cmis = np.eye(d)\n",
    "        for i, j in [(i, j) for i in range(d) for j in range(d) if i != j]:\n",
    "            x = X[:, [i]]\n",
    "            y = X[:, [j]]\n",
    "            z = X[:, (np.arange(d) != i) & (np.arange(d) != j)]\n",
    "            cmis[i, j] = knn.cmi_knn(x, y, z, k=k)\n",
    "\n",
    "        cmis[cmis < 0] = 0\n",
    "        cmis[np.eye(d, dtype=bool)] = None\n",
    "        sns.heatmap(cmis, annot=True, ax=axes[l], center=0, cmap=palette, cbar=False)"
   ]
  },
  {
   "cell_type": "code",
   "execution_count": null,
   "metadata": {
    "collapsed": true
   },
   "outputs": [],
   "source": [
    "heat_cmi(X)"
   ]
  },
  {
   "cell_type": "code",
   "execution_count": 2,
   "metadata": {},
   "outputs": [
    {
     "data": {
      "text/html": [
       "<div>\n",
       "<style scoped>\n",
       "    .dataframe tbody tr th:only-of-type {\n",
       "        vertical-align: middle;\n",
       "    }\n",
       "\n",
       "    .dataframe tbody tr th {\n",
       "        vertical-align: top;\n",
       "    }\n",
       "\n",
       "    .dataframe thead th {\n",
       "        text-align: right;\n",
       "    }\n",
       "</style>\n",
       "<table border=\"1\" class=\"dataframe\">\n",
       "  <thead>\n",
       "    <tr style=\"text-align: right;\">\n",
       "      <th></th>\n",
       "      <th>ADBE</th>\n",
       "      <th>AMD</th>\n",
       "      <th>AES</th>\n",
       "      <th>AET</th>\n",
       "      <th>AFL</th>\n",
       "    </tr>\n",
       "  </thead>\n",
       "  <tbody>\n",
       "    <tr>\n",
       "      <th>1</th>\n",
       "      <td>25.60</td>\n",
       "      <td>7.01</td>\n",
       "      <td>3.24</td>\n",
       "      <td>42.04</td>\n",
       "      <td>31.59</td>\n",
       "    </tr>\n",
       "    <tr>\n",
       "      <th>2</th>\n",
       "      <td>26.30</td>\n",
       "      <td>6.94</td>\n",
       "      <td>3.45</td>\n",
       "      <td>42.33</td>\n",
       "      <td>31.60</td>\n",
       "    </tr>\n",
       "    <tr>\n",
       "      <th>3</th>\n",
       "      <td>27.51</td>\n",
       "      <td>7.16</td>\n",
       "      <td>3.45</td>\n",
       "      <td>42.75</td>\n",
       "      <td>32.00</td>\n",
       "    </tr>\n",
       "    <tr>\n",
       "      <th>4</th>\n",
       "      <td>28.51</td>\n",
       "      <td>7.17</td>\n",
       "      <td>3.37</td>\n",
       "      <td>42.18</td>\n",
       "      <td>31.73</td>\n",
       "    </tr>\n",
       "    <tr>\n",
       "      <th>5</th>\n",
       "      <td>27.13</td>\n",
       "      <td>6.69</td>\n",
       "      <td>3.35</td>\n",
       "      <td>42.23</td>\n",
       "      <td>31.80</td>\n",
       "    </tr>\n",
       "  </tbody>\n",
       "</table>\n",
       "</div>"
      ],
      "text/plain": [
       "    ADBE   AMD   AES    AET    AFL\n",
       "1  25.60  7.01  3.24  42.04  31.59\n",
       "2  26.30  6.94  3.45  42.33  31.60\n",
       "3  27.51  7.16  3.45  42.75  32.00\n",
       "4  28.51  7.17  3.37  42.18  31.73\n",
       "5  27.13  6.69  3.35  42.23  31.80"
      ]
     },
     "execution_count": 2,
     "metadata": {},
     "output_type": "execute_result"
    }
   ],
   "source": [
    "df = pd.read_csv('data/stock1.csv', index_col=0)\n",
    "df.columns = pd.read_csv('data/stock2.csv', index_col=0).values[:, 0]\n",
    "df = df[df.columns[4:9]]\n",
    "# df = df[df.columns[25:30]] # よさげ\n",
    "X = df.values\n",
    "X = sklearn.preprocessing.scale(X)\n",
    "df[:5]"
   ]
  },
  {
   "cell_type": "code",
   "execution_count": null,
   "metadata": {
    "collapsed": true
   },
   "outputs": [],
   "source": [
    "sns.pairplot(df.sample(300))\n",
    "plt.tight_layout()\n",
    "plt.savefig('output/pair-stock.pdf', format='pdf')"
   ]
  },
  {
   "cell_type": "code",
   "execution_count": 4,
   "metadata": {
    "collapsed": true
   },
   "outputs": [],
   "source": [
    "n, d = X.shape\n",
    "edges = knn.learn_mrf(X)\n",
    "g = nx.Graph()\n",
    "g.add_nodes_from(range(d))\n",
    "g.add_edges_from(edges)\n",
    "adj = nx.adjacency_matrix(g).toarray().astype(float)\n",
    "adj[np.eye(5, dtype=bool)] = None"
   ]
  },
  {
   "cell_type": "code",
   "execution_count": 3,
   "metadata": {
    "collapsed": true
   },
   "outputs": [],
   "source": [
    "# gl = sklearn.covariance.GraphLasso(alpha=0.14, assume_centered=True)\n",
    "gl = sklearn.covariance.GraphLasso(alpha=0.1, assume_centered=True)\n",
    "gl2 = sklearn.covariance.GraphLassoCV(assume_centered=True)\n",
    "gl.fit(X)\n",
    "gl2.fit(X)\n",
    "corr = gl.precision_\n",
    "corr = corr / np.sqrt(np.diag(corr)).reshape(1, -1) / np.sqrt(np.diag(corr)).reshape(-1, 1)\n",
    "corr2 = gl2.precision_\n",
    "corr2 = corr2 / np.sqrt(np.diag(corr2)).reshape(1, -1) / np.sqrt(np.diag(corr2)).reshape(-1, 1)\n",
    "corr[np.eye(5, dtype=bool)] = None\n",
    "corr2[np.eye(5, dtype=bool)] = None"
   ]
  },
  {
   "cell_type": "code",
   "execution_count": 5,
   "metadata": {},
   "outputs": [
    {
     "data": {
      "image/png": "[encoded data removed]",
      "text/plain": [
       "<matplotlib.figure.Figure at 0x7f9a16905b70>"
      ]
     },
     "metadata": {},
     "output_type": "display_data"
    }
   ],
   "source": [
    "f, axes = plt.subplots(1, 3, figsize=[10, 4])\n",
    "axes[0].set_title('Graphical lasso ($\\lambda = 0.1$)', fontsize=15)\n",
    "axes[1].set_title('Graphical lasso (CV)', fontsize=15)\n",
    "axes[2].set_title('Proposed ($\\lambda = 0$)', fontsize=15)\n",
    "labels = ['$X_1$', '$X_2$', '$X_3$', '$X_4$', '$X_5$']\n",
    "sns.heatmap(corr, annot=True, center=0, ax=axes[0], cmap=palette, cbar=False, xticklabels=labels, yticklabels=labels)\n",
    "sns.heatmap(corr2, annot=True, center=0, ax=axes[1], cmap=palette, cbar=False, xticklabels=labels, yticklabels=[])\n",
    "sns.heatmap(adj, annot=True, center=0, ax=axes[2], cmap=palette, cbar=False, xticklabels=labels, yticklabels=[])\n",
    "plt.tight_layout()\n",
    "plt.savefig('output/heat-stock.pdf', format='pdf')"
   ]
  },
  {
   "cell_type": "code",
   "execution_count": null,
   "metadata": {
    "collapsed": true
   },
   "outputs": [],
   "source": [
    "data = sklearn.datasets.load_iris()\n",
    "df = pd.DataFrame(data['data'], columns=list(data.feature_names))\n",
    "df['class'] = data.target\n",
    "df[:5]\n",
    "X = df.values"
   ]
  },
  {
   "cell_type": "code",
   "execution_count": null,
   "metadata": {
    "collapsed": true
   },
   "outputs": [],
   "source": [
    "n, d = X.shape\n",
    "edges = knn.learn_mrf(X, alpha=0.1)\n",
    "g = nx.Graph()\n",
    "g.add_nodes_from(range(d))\n",
    "g.add_edges_from(edges)\n",
    "adj = nx.adjacency_matrix(g).toarray()"
   ]
  },
  {
   "cell_type": "code",
   "execution_count": null,
   "metadata": {
    "collapsed": true
   },
   "outputs": [],
   "source": [
    "# gl = sklearn.covariance.GraphLasso(alpha=0.14, assume_centered=True)\n",
    "gl = sklearn.covariance.GraphLasso(alpha=0.1, assume_centered=True)\n",
    "gl2 = sklearn.covariance.GraphLassoCV(assume_centered=True)\n",
    "gl.fit(X)\n",
    "gl2.fit(X)\n",
    "corr = gl.precision_\n",
    "corr = corr / np.sqrt(np.diag(corr)).reshape(1, -1) / np.sqrt(np.diag(corr)).reshape(-1, 1)\n",
    "corr2 = gl2.precision_\n",
    "corr2 = corr2 / np.sqrt(np.diag(corr2)).reshape(1, -1) / np.sqrt(np.diag(corr2)).reshape(-1, 1)\n",
    "corr[np.eye(5, dtype=bool)] = None\n",
    "corr2[np.eye(5, dtype=bool)] = None"
   ]
  },
  {
   "cell_type": "code",
   "execution_count": null,
   "metadata": {
    "collapsed": true
   },
   "outputs": [],
   "source": [
    "f, axes = plt.subplots(1, 3, figsize=[10, 4])\n",
    "axes[0].set_title('Graphical lasso ($\\lambda = 0.1$)', fontsize=15)\n",
    "axes[1].set_title('Graphical lasso (CV)', fontsize=15)\n",
    "axes[2].set_title('Proposed ($\\lambda = 0.1$)', fontsize=15)\n",
    "labels = ['$X_1$', '$X_2$', '$X_3$', '$X_4$', '$X_5$']\n",
    "sns.heatmap(corr, annot=True, center=0, ax=axes[0], cmap=palette, cbar=False, xticklabels=labels, yticklabels=labels)\n",
    "sns.heatmap(corr2, annot=True, center=0, ax=axes[1], cmap=palette, cbar=False, xticklabels=labels, yticklabels=[])\n",
    "sns.heatmap(adj, annot=True, center=0, ax=axes[2], cmap=palette, cbar=False, xticklabels=labels, yticklabels=[])\n",
    "plt.tight_layout()\n",
    "plt.savefig('output/heat-iris.pdf', format='pdf')"
   ]
  },
  {
   "cell_type": "code",
   "execution_count": null,
   "metadata": {
    "collapsed": true
   },
   "outputs": [],
   "source": []
  }
 ],
 "metadata": {
  "kernelspec": {
   "display_name": "py36",
   "language": "python",
   "name": "py36"
  },
  "language_info": {
   "codemirror_mode": {
    "name": "ipython",
    "version": 3
   },
   "file_extension": ".py",
   "mimetype": "text/x-python",
   "name": "python",
   "nbconvert_exporter": "python",
   "pygments_lexer": "ipython3",
   "version": "3.6.3"
  }
 },
 "nbformat": 4,
 "nbformat_minor": 2
}
