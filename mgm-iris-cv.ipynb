{
 "cells": [
  {
   "cell_type": "code",
   "execution_count": 1,
   "metadata": {},
   "outputs": [
    {
     "name": "stderr",
     "output_type": "stream",
     "text": [
      "/home/ytakashina/anaconda3/envs/py36/lib/python3.6/importlib/_bootstrap.py:219: RuntimeWarning: compiletime version 3.5 of module 'tensorflow.python.framework.fast_tensor_util' does not match runtime version 3.6\n",
      "  return f(*args, **kwds)\n"
     ]
    },
    {
     "data": {
      "text/html": [
       "<script>requirejs.config({paths: { 'plotly': ['https://cdn.plot.ly/plotly-latest.min']},});if(!window.Plotly) {{require(['plotly'],function(plotly) {window.Plotly=plotly;});}}</script>"
      ],
      "text/vnd.plotly.v1+html": [
       "<script>requirejs.config({paths: { 'plotly': ['https://cdn.plot.ly/plotly-latest.min']},});if(!window.Plotly) {{require(['plotly'],function(plotly) {window.Plotly=plotly;});}}</script>"
      ]
     },
     "metadata": {},
     "output_type": "display_data"
    }
   ],
   "source": [
    "import tqdm\n",
    "import pickle\n",
    "import numpy as np\n",
    "import tensorflow as tf\n",
    "import scipy\n",
    "import sklearn\n",
    "import sklearn.datasets\n",
    "import sklearn.covariance\n",
    "import sklearn.preprocessing\n",
    "import pandas as pd\n",
    "import plotly\n",
    "import seaborn as sns\n",
    "import networkx as nx\n",
    "import matplotlib\n",
    "import matplotlib.pyplot as plt\n",
    "sns.set_style('ticks')\n",
    "# seaborn.set(style='ticks', font='TakaoGothic')\n",
    "matplotlib.rcParams['pdf.fonttype'] = 42\n",
    "plotly.offline.init_notebook_mode(connected=True)\n",
    "palette = sns.color_palette(\"RdBu_r\", n_colors=25)\n",
    "% matplotlib inline\n",
    "\n",
    "import knn"
   ]
  },
  {
   "cell_type": "code",
   "execution_count": 2,
   "metadata": {
    "collapsed": true
   },
   "outputs": [],
   "source": [
    "data = sklearn.datasets.load_iris()\n",
    "features = sklearn.preprocessing.scale(data.data)\n",
    "target = data.target"
   ]
  },
  {
   "cell_type": "code",
   "execution_count": 3,
   "metadata": {
    "collapsed": true
   },
   "outputs": [],
   "source": [
    "d_c = 4\n",
    "k = 3\n",
    "np.random.seed(1)"
   ]
  },
  {
   "cell_type": "code",
   "execution_count": 4,
   "metadata": {
    "collapsed": true
   },
   "outputs": [],
   "source": [
    "class MixedGraphicalModel(object):\n",
    "    def __init__(self, lamb=0, eta=0.001, display_epoch=10000, training_epochs=100000, verbose=True, tol=1e-6):\n",
    "        self._lambda = lamb\n",
    "        self._eta = eta\n",
    "        self._display_epoch = display_epoch\n",
    "        self._training_epochs = training_epochs\n",
    "        self._verbose = verbose\n",
    "        self._tol = tol\n",
    "    \n",
    "    def fit(self, features, target):\n",
    "        alpha = tf.Variable(np.zeros(d_c), dtype=tf.float32)\n",
    "        beta_ = tf.Variable(np.random.gamma(1, size=[d_c, d_c]), dtype=tf.float32)\n",
    "        beta_triu = tf.matrix_band_part(beta_, 0, -1)\n",
    "        beta_diag = tf.matrix_band_part(beta_, 0, 0)\n",
    "        beta = beta_triu + tf.transpose(beta_triu) - beta_diag\n",
    "        rho = tf.Variable(np.random.normal(size=[d_c, k]), dtype=tf.float32)\n",
    "        phi = tf.Variable(np.random.normal(size=[k]), dtype=tf.float32)\n",
    "        \n",
    "        x = tf.placeholder(tf.float32, [None, d_c])\n",
    "        y = tf.placeholder(tf.int32, [None])\n",
    "        with tf.Session() as sess:\n",
    "            n = sess.run(tf.size(y), {y: target})\n",
    "\n",
    "        beta_diag = tf.diag_part(beta)                    # [d_c]\n",
    "        rho_y = tf.gather(rho, y, axis=1)                 # [d_c, n]\n",
    "        beta_x = tf.matmul(beta, tf.transpose(x))         # [d_c, n]\n",
    "        dev = tf.reshape(alpha, [-1, 1]) + rho_y - beta_x # [d_c, n]\n",
    "        loss = -0.5 * n * tf.reduce_sum(tf.log(beta_diag))\n",
    "        loss += tf.reduce_sum(dev * dev / tf.reshape(beta_diag, [-1, 1]) / 2)\n",
    "        \n",
    "        rho_x = tf.matmul(x, rho)                 # [n, k]\n",
    "        logits = rho_x + tf.reshape(phi, [1, -1]) # [n, k]\n",
    "        p_k = tf.nn.softmax(logits)               # [n, k]\n",
    "        y_onehot = tf.one_hot(y, k)               # [n, k]\n",
    "        loss += -tf.reduce_sum(tf.log(tf.reduce_sum(p_k * y_onehot, axis=1)))\n",
    "        \n",
    "        regularizer = tf.contrib.layers.l1_regularizer(scale=self._lambda * n)\n",
    "        weights_list = [beta_triu - beta_diag, np.sqrt(2/3) * tf.norm(rho, axis=1)]\n",
    "        loss += tf.contrib.layers.apply_regularization(regularizer, weights_list)\n",
    "        \n",
    "        optimizer = tf.train.GradientDescentOptimizer(self._eta).minimize(loss)\n",
    "        \n",
    "        with tf.Session() as sess:\n",
    "            sess.run(tf.global_variables_initializer())\n",
    "            l_prev = np.inf\n",
    "            for epoch in range(self._training_epochs):\n",
    "                _, l = sess.run([optimizer, loss], {x: features, y: target})\n",
    "                if self._verbose and (epoch+1) % self._display_epoch == 0:\n",
    "                    print(\"Epoch:\", '%04d' % (epoch+1), \"loss=\", \"{:.9f}\".format(l))\n",
    "                if np.isnan(l):\n",
    "                    print('loss becomes nan at epoch %d' % epoch)\n",
    "                    return np.nan, False\n",
    "                if np.abs(l - l_prev) < self._tol:\n",
    "                    self.alpha, self.beta, self.rho, self.phi = sess.run([alpha, beta, rho, phi])\n",
    "                    return l, True\n",
    "\n",
    "                l_prev = l\n",
    "\n",
    "                self.alpha, self.beta, self.rho, self.phi = sess.run([alpha, beta, rho, phi])\n",
    "        \n",
    "        return l, False"
   ]
  },
  {
   "cell_type": "code",
   "execution_count": null,
   "metadata": {
    "collapsed": true
   },
   "outputs": [],
   "source": [
    "class MixedGraphicalModelCV(object):\n",
    "    def __init__(self, lamb=0, eta=0.001, display_epoch=10000, training_epochs=100000, verbose=True, tol=1e-6):\n",
    "        self._lambda = lamb\n",
    "        self._eta = eta\n",
    "        self._display_epoch = display_epoch\n",
    "        self._training_epochs = training_epochs\n",
    "        self._verbose = verbose\n",
    "        self._tol = tol\n",
    "    \n",
    "    def fit(self, features, target):\n",
    "        alpha = tf.Variable(np.zeros(d_c), dtype=tf.float32)\n",
    "        beta_ = tf.Variable(np.random.gamma(1, size=[d_c, d_c]), dtype=tf.float32)\n",
    "        beta_triu = tf.matrix_band_part(beta_, 0, -1)\n",
    "        beta_diag = tf.matrix_band_part(beta_, 0, 0)\n",
    "        beta = beta_triu + tf.transpose(beta_triu) - beta_diag\n",
    "        rho = tf.Variable(np.random.normal(size=[d_c, k]), dtype=tf.float32)\n",
    "        phi = tf.Variable(np.random.normal(size=[k]), dtype=tf.float32)\n",
    "        \n",
    "        x = tf.placeholder(tf.float32, [None, d_c])\n",
    "        y = tf.placeholder(tf.int32, [None])\n",
    "        with tf.Session() as sess:\n",
    "            n = sess.run(tf.size(y), {y: target})\n",
    "\n",
    "        beta_diag = tf.diag_part(beta)                    # [d_c]\n",
    "        rho_y = tf.gather(rho, y, axis=1)                 # [d_c, n]\n",
    "        beta_x = tf.matmul(beta, tf.transpose(x))         # [d_c, n]\n",
    "        dev = tf.reshape(alpha, [-1, 1]) + rho_y - beta_x # [d_c, n]\n",
    "        loss = -0.5 * n * tf.reduce_sum(tf.log(beta_diag))\n",
    "        loss += tf.reduce_sum(dev * dev / tf.reshape(beta_diag, [-1, 1]) / 2)\n",
    "        \n",
    "        rho_x = tf.matmul(x, rho)                 # [n, k]\n",
    "        logits = rho_x + tf.reshape(phi, [1, -1]) # [n, k]\n",
    "        p_k = tf.nn.softmax(logits)               # [n, k]\n",
    "        y_onehot = tf.one_hot(y, k)               # [n, k]\n",
    "        loss += -tf.reduce_sum(tf.log(tf.reduce_sum(p_k * y_onehot, axis=1)))\n",
    "        \n",
    "        regularizer = tf.contrib.layers.l1_regularizer(scale=self._lambda * n)\n",
    "        weights_list = [beta_triu - beta_diag, np.sqrt(2/3) * tf.norm(rho, axis=1)]\n",
    "        loss_reg = loss + tf.contrib.layers.apply_regularization(regularizer, weights_list)\n",
    "        \n",
    "        optimizer = tf.train.GradientDescentOptimizer(self._eta).minimize(loss_reg)\n",
    "        \n",
    "        with tf.Session() as sess:\n",
    "            cv_score = 0\n",
    "            kf = sklearn.model_selection.KFold(n_splits=5)\n",
    "            for train_idx, test_idx in kf.split(features):\n",
    "                sess.run(tf.global_variables_initializer())\n",
    "                X_train, X_test = features[train_idx], features[test_idx]\n",
    "                y_train, y_test = target[train_idx], target[test_idx]\n",
    "                l_prev = np.inf\n",
    "                for epoch in range(self._training_epochs):\n",
    "                    _, l = sess.run([optimizer, loss], {x: X_train, y: y_train})\n",
    "                    if self._verbose and (epoch+1) % self._display_epoch == 0:\n",
    "                        print(\"Epoch:\", '%04d' % (epoch+1), \"loss=\", \"{:.9f}\".format(l))\n",
    "                    if np.isnan(l):\n",
    "                        print('loss becomes nan at epoch %d' % epoch)\n",
    "                        return np.nan, False\n",
    "                    if np.abs(l - l_prev) < self._tol:\n",
    "                        break\n",
    "                    l_prev = l\n",
    "                \n",
    "                cv_score += sess.run(loss, {x: X_test, y: y_test})\n",
    "            \n",
    "            self.alpha, self.beta, self.rho, self.phi = sess.run([alpha, beta, rho, phi])\n",
    "        \n",
    "        cv_score = cv_score / 5\n",
    "        return cv_score"
   ]
  },
  {
   "cell_type": "code",
   "execution_count": null,
   "metadata": {
    "scrolled": false
   },
   "outputs": [],
   "source": [
    "# lambdas = np.array([0, 0.1, 0.2, 0.3, 0.5, 0.7, 1, 2, 3, 5, 7, 10])\n",
    "# loss_min = np.inf\n",
    "# for lamb in lambdas:\n",
    "#     eta = 1e-4 if lamb < 0.3 else 1e-5 if lamb < 1 else 1e-6\n",
    "#     mgm = MixedGraphicalModelCV(lamb=lamb, eta=eta, verbose=False)\n",
    "#     loss = mgm.fit(features, target)\n",
    "#     print(lamb, loss)\n",
    "#     if loss < loss_min:\n",
    "#         loss_min = loss\n",
    "#         alpha, beta, rho, phi = mgm.alpha, mgm.beta, mgm.rho, mgm.phi"
   ]
  },
  {
   "cell_type": "code",
   "execution_count": 5,
   "metadata": {
    "scrolled": false
   },
   "outputs": [
    {
     "data": {
      "text/plain": [
       "(334.56256, True)"
      ]
     },
     "execution_count": 5,
     "metadata": {},
     "output_type": "execute_result"
    }
   ],
   "source": [
    "mgm = MixedGraphicalModel(lamb=0.1, eta=1e-4)\n",
    "mgm.fit(features, target)"
   ]
  },
  {
   "cell_type": "code",
   "execution_count": 6,
   "metadata": {},
   "outputs": [
    {
     "data": {
      "text/plain": [
       "(array([ -1.04551789e-08,   2.30677892e-04,   1.03957038e-02,\n",
       "         -2.07467899e-02], dtype=float32),\n",
       " array([[ 1.0786767 , -0.3284601 , -0.81492645, -0.1046906 ],\n",
       "        [-0.3284601 ,  0.79721856,  0.4263204 ,  0.00168242],\n",
       "        [-0.81492645,  0.4263204 ,  1.58606565, -0.05450447],\n",
       "        [-0.1046906 ,  0.00168242, -0.05450447,  1.39003897]], dtype=float32),\n",
       " array([[-0.07805989,  0.02058164,  0.05747826],\n",
       "        [ 0.38361192, -0.36476833, -0.01947337],\n",
       "        [-0.76118684,  0.01381835,  0.71900266],\n",
       "        [-1.45095122,  0.10409468,  1.40650225]], dtype=float32),\n",
       " array([ 0.35854608,  1.51371396,  0.43267745], dtype=float32))"
      ]
     },
     "execution_count": 6,
     "metadata": {},
     "output_type": "execute_result"
    }
   ],
   "source": [
    "mgm.alpha, mgm.beta, mgm.rho, mgm.phi"
   ]
  },
  {
   "cell_type": "code",
   "execution_count": 7,
   "metadata": {},
   "outputs": [
    {
     "data": {
      "text/plain": [
       "<matplotlib.axes._subplots.AxesSubplot at 0x7fa0365d9908>"
      ]
     },
     "execution_count": 7,
     "metadata": {},
     "output_type": "execute_result"
    },
    {
     "data": {
      "image/png": "[encoded data removed]",
      "text/plain": [
       "<matplotlib.figure.Figure at 0x7fa03be0f320>"
      ]
     },
     "metadata": {},
     "output_type": "display_data"
    }
   ],
   "source": [
    "pre_sample = np.linalg.inv(np.cov(features, rowvar=0))\n",
    "pre_estimate = mgm.beta\n",
    "f, axes = plt.subplots(1, 2, figsize=[8, 4])\n",
    "sns.heatmap(pre_sample, ax=axes[0], cmap=palette, cbar=False, annot=True, center=0, fmt='.1f')\n",
    "sns.heatmap(pre_estimate, ax=axes[1], cmap=palette, cbar=False, annot=True, center=0, fmt='.1f')"
   ]
  },
  {
   "cell_type": "code",
   "execution_count": 8,
   "metadata": {},
   "outputs": [
    {
     "data": {
      "text/plain": [
       "<matplotlib.axes._subplots.AxesSubplot at 0x7fa0365b5e48>"
      ]
     },
     "execution_count": 8,
     "metadata": {},
     "output_type": "execute_result"
    },
    {
     "data": {
      "image/png": "[encoded data removed]",
      "text/plain": [
       "<matplotlib.figure.Figure at 0x7fa0365bcb70>"
      ]
     },
     "metadata": {},
     "output_type": "display_data"
    }
   ],
   "source": [
    "adj_cc = mgm.beta\n",
    "adj_dc = np.linalg.norm(mgm.rho, axis=1)\n",
    "adj_u = np.hstack((adj_cc, adj_dc.reshape(-1, 1)))\n",
    "adj_l = np.append(adj_dc, 0)\n",
    "adj = np.vstack((adj_u, adj_l))\n",
    "adj[np.eye(5, dtype=bool)] = np.nan\n",
    "plt.figure(figsize=[4, 4])\n",
    "sns.heatmap(adj, cmap=palette, cbar=False, annot=True, center=0)"
   ]
  },
  {
   "cell_type": "code",
   "execution_count": 9,
   "metadata": {},
   "outputs": [
    {
     "data": {
      "text/plain": [
       "<matplotlib.axes._subplots.AxesSubplot at 0x7fa0364cad30>"
      ]
     },
     "execution_count": 9,
     "metadata": {},
     "output_type": "execute_result"
    },
    {
     "data": {
      "image/png": "[encoded data removed]",
      "text/plain": [
       "<matplotlib.figure.Figure at 0x7fa0365605f8>"
      ]
     },
     "metadata": {},
     "output_type": "display_data"
    }
   ],
   "source": [
    "adj_cc = mgm.beta\n",
    "adj_dc = np.linalg.norm(mgm.rho, axis=1)\n",
    "adj_u = np.hstack((adj_cc, adj_dc.reshape(-1, 1)))\n",
    "adj_l = np.append(adj_dc, 0)\n",
    "adj = np.vstack((adj_u, adj_l))\n",
    "adj = (np.abs(adj) > 0.1).astype(float)\n",
    "adj[np.eye(5, dtype=bool)] = np.nan\n",
    "plt.figure(figsize=[4, 4])\n",
    "sns.heatmap(adj, cmap=palette, cbar=False, annot=True, center=0)"
   ]
  },
  {
   "cell_type": "code",
   "execution_count": 12,
   "metadata": {},
   "outputs": [
    {
     "name": "stdout",
     "output_type": "stream",
     "text": [
      "Epoch: 10000 loss= 1121.604248047\n",
      "Epoch: 20000 loss= 848.255432129\n"
     ]
    },
    {
     "data": {
      "text/plain": [
       "(842.11108, True)"
      ]
     },
     "execution_count": 12,
     "metadata": {},
     "output_type": "execute_result"
    }
   ],
   "source": [
    "mgm2 = MixedGraphicalModel(lamb=0.5, eta=1e-6)\n",
    "mgm2.fit(features, target)"
   ]
  },
  {
   "cell_type": "code",
   "execution_count": 13,
   "metadata": {},
   "outputs": [
    {
     "data": {
      "text/plain": [
       "<matplotlib.axes._subplots.AxesSubplot at 0x7fa035ca2630>"
      ]
     },
     "execution_count": 13,
     "metadata": {},
     "output_type": "execute_result"
    },
    {
     "data": {
      "image/png": "[encoded data removed]",
      "text/plain": [
       "<matplotlib.figure.Figure at 0x7fa035c95e10>"
      ]
     },
     "metadata": {},
     "output_type": "display_data"
    }
   ],
   "source": [
    "adj_cc = mgm2.beta\n",
    "adj_dc = np.linalg.norm(mgm2.rho, axis=1)\n",
    "adj_u = np.hstack((adj_cc, adj_dc.reshape(-1, 1)))\n",
    "adj_l = np.append(adj_dc, 0)\n",
    "adj2 = np.vstack((adj_u, adj_l))\n",
    "adj2 = (np.abs(adj2) > 0.1).astype(float)\n",
    "adj2[np.eye(5, dtype=bool)] = np.nan\n",
    "plt.figure(figsize=[4, 4])\n",
    "sns.heatmap(adj2, cmap=palette, cbar=False, annot=True, center=0)"
   ]
  },
  {
   "cell_type": "code",
   "execution_count": 14,
   "metadata": {
    "collapsed": true
   },
   "outputs": [],
   "source": [
    "df = pd.DataFrame(features)\n",
    "df['class'] = target"
   ]
  },
  {
   "cell_type": "code",
   "execution_count": 15,
   "metadata": {
    "collapsed": true
   },
   "outputs": [],
   "source": [
    "n, d = df.values.shape\n",
    "edges = knn.learn_mrf(df.values)\n",
    "g = nx.Graph()\n",
    "g.add_nodes_from(range(d))\n",
    "g.add_edges_from(edges)\n",
    "adj3 = nx.adjacency_matrix(g).toarray().astype(float)\n",
    "adj3[np.eye(d, dtype=bool)] = np.nan"
   ]
  },
  {
   "cell_type": "code",
   "execution_count": 17,
   "metadata": {},
   "outputs": [
    {
     "data": {
      "image/png": "[encoded data removed]",
      "text/plain": [
       "<matplotlib.figure.Figure at 0x7fa035a3d710>"
      ]
     },
     "metadata": {},
     "output_type": "display_data"
    }
   ],
   "source": [
    "f, axes = plt.subplots(1, 3, figsize=[10, 4])\n",
    "axes[0].set_title('MGM ($\\lambda = 0.1$)', fontsize=15)\n",
    "axes[1].set_title('MGM ($\\lambda = 0.5$)', fontsize=15)\n",
    "axes[2].set_title('Proposed ($\\lambda = 0$)', fontsize=15)\n",
    "labels = ['$X_1$', '$X_2$', '$X_3$', '$X_4$', '$X_5$']\n",
    "sns.heatmap(adj, annot=True, center=0, ax=axes[0], cmap=palette, cbar=False, xticklabels=labels, yticklabels=labels)\n",
    "sns.heatmap(adj2, annot=True, center=0, ax=axes[1], cmap=palette, cbar=False, xticklabels=labels, yticklabels=[])\n",
    "sns.heatmap(adj3, annot=True, center=0, ax=axes[2], cmap=palette, cbar=False, xticklabels=labels, yticklabels=[])\n",
    "plt.tight_layout()\n",
    "plt.savefig('output/heat-iris.pdf', format='pdf')"
   ]
  },
  {
   "cell_type": "code",
   "execution_count": null,
   "metadata": {},
   "outputs": [],
   "source": [
    "sns.pairplot(df, hue='class')"
   ]
  },
  {
   "cell_type": "code",
   "execution_count": null,
   "metadata": {
    "collapsed": true
   },
   "outputs": [],
   "source": []
  }
 ],
 "metadata": {
  "kernelspec": {
   "display_name": "py36",
   "language": "python",
   "name": "py36"
  },
  "language_info": {
   "codemirror_mode": {
    "name": "ipython",
    "version": 3
   },
   "file_extension": ".py",
   "mimetype": "text/x-python",
   "name": "python",
   "nbconvert_exporter": "python",
   "pygments_lexer": "ipython3",
   "version": "3.6.3"
  }
 },
 "nbformat": 4,
 "nbformat_minor": 2
}
