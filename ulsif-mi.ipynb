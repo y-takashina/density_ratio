{
 "cells": [
  {
   "cell_type": "code",
   "execution_count": null,
   "metadata": {},
   "outputs": [],
   "source": [
    "import tqdm\n",
    "import numpy as np\n",
    "import scipy.stats\n",
    "import sklearn\n",
    "import sklearn.cluster\n",
    "import matplotlib.pyplot as plt\n",
    "% matplotlib inline\n",
    "import seaborn as sns\n",
    "sns.set_style('ticks')\n",
    "palette = sns.color_palette(\"RdBu_r\", n_colors=25)\n",
    "\n",
    "import ulsif"
   ]
  },
  {
   "cell_type": "code",
   "execution_count": null,
   "metadata": {},
   "outputs": [],
   "source": [
    "# n = 3000\n",
    "# c = 0.5\n",
    "# cov = np.array([[1, c], [c, 1]])\n",
    "# XY = scipy.stats.multivariate_normal(mean=[0, 0], cov=cov).rvs(n)\n",
    "# X, Y = np.split(XY, [1], axis=1)\n",
    "# ulsif.MutualInformation(sigma=0.5, lamb=0.01).fit(X, Y).mi"
   ]
  },
  {
   "cell_type": "code",
   "execution_count": null,
   "metadata": {},
   "outputs": [],
   "source": [
    "n = 3000\n",
    "mis = []\n",
    "\n",
    "for c in tqdm.tqdm(np.arange(0, 0.5, 0.1)):\n",
    "    cov = np.array([[1, c], [c, 1]])\n",
    "    XY = scipy.stats.multivariate_normal(mean=[0, 0], cov=cov).rvs(n)\n",
    "    X, Y = np.split(XY, [1], axis=1)\n",
    "    mis += [ulsif.MutualInformation(sigma=0.5, lamb=0.01).fit(X, Y).mi]"
   ]
  },
  {
   "cell_type": "code",
   "execution_count": null,
   "metadata": {
    "collapsed": true
   },
   "outputs": [],
   "source": [
    "tmis = [-0.5 * np.log(1 - c**2) for c in np.arange(0, 0.5, 0.1)]"
   ]
  },
  {
   "cell_type": "code",
   "execution_count": null,
   "metadata": {},
   "outputs": [],
   "source": [
    "plt.plot(np.arange(0, 0.5, 0.1), tmis, label='theoretical')\n",
    "plt.plot(np.arange(0, 0.5, 0.1), mis, label='approx.')\n",
    "plt.legend()"
   ]
  },
  {
   "cell_type": "code",
   "execution_count": null,
   "metadata": {
    "collapsed": true
   },
   "outputs": [],
   "source": []
  }
 ],
 "metadata": {
  "kernelspec": {
   "display_name": "py36",
   "language": "python",
   "name": "py36"
  },
  "language_info": {
   "codemirror_mode": {
    "name": "ipython",
    "version": 3
   },
   "file_extension": ".py",
   "mimetype": "text/x-python",
   "name": "python",
   "nbconvert_exporter": "python",
   "pygments_lexer": "ipython3",
   "version": "3.6.1"
  }
 },
 "nbformat": 4,
 "nbformat_minor": 2
}
