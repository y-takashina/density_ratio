{
 "cells": [
  {
   "cell_type": "code",
   "execution_count": null,
   "metadata": {
    "collapsed": true
   },
   "outputs": [],
   "source": [
    "import tqdm\n",
    "import numpy as np\n",
    "import scipy.stats\n",
    "import sklearn\n",
    "import sklearn.cluster\n",
    "import matplotlib.pyplot as plt\n",
    "% matplotlib inline\n",
    "import seaborn as sns\n",
    "sns.set_style('ticks')\n",
    "palette = sns.color_palette(\"RdBu_r\", n_colors=25)"
   ]
  },
  {
   "cell_type": "code",
   "execution_count": null,
   "metadata": {},
   "outputs": [],
   "source": [
    "b = 100\n",
    "n = 3000\n",
    "cov = np.array([[1, 0.5], [0.5, 1]])\n",
    "\n",
    "XY = scipy.stats.multivariate_normal(mean=[0, 0], cov=cov).rvs(n)\n",
    "X, Y = np.split(XY, [1], axis=1)\n",
    "XY_ = np.array([[x, y] for x in X for y in Y]).reshape(n**2, 2)\n",
    "UV = sklearn.cluster.KMeans(b).fit(XY).cluster_centers_\n",
    "U, V = np.split(UV, [1], axis=1)\n",
    "\n",
    "print(XY.shape)\n",
    "print(XY_.shape)\n",
    "print(UV.shape)"
   ]
  },
  {
   "cell_type": "code",
   "execution_count": null,
   "metadata": {
    "scrolled": false
   },
   "outputs": [],
   "source": [
    "plt.scatter(X, Y)\n",
    "plt.scatter(U, V, c='r', marker='x')"
   ]
  },
  {
   "cell_type": "code",
   "execution_count": null,
   "metadata": {
    "collapsed": true
   },
   "outputs": [],
   "source": [
    "def norm(mean, sigma):\n",
    "    cov = np.eye(len(mean)) * sigma\n",
    "    return lambda x: scipy.stats.multivariate_normal.pdf(x, mean=mean, cov=cov)\n",
    "\n",
    "sigma = 1\n",
    "bases = [norm(uv, sigma) for uv in UV]"
   ]
  },
  {
   "cell_type": "code",
   "execution_count": null,
   "metadata": {
    "collapsed": true
   },
   "outputs": [],
   "source": [
    "bases[0](XY_)"
   ]
  },
  {
   "cell_type": "code",
   "execution_count": null,
   "metadata": {},
   "outputs": [],
   "source": [
    "phi = np.array([b(XY) for b in bases])\n",
    "H = np.einsum('in,jn->ij', phi, phi) / n\n",
    "h = np.mean([b(XY_) for b in bases], axis=1)"
   ]
  },
  {
   "cell_type": "code",
   "execution_count": null,
   "metadata": {
    "collapsed": true
   },
   "outputs": [],
   "source": [
    "lamb = 0.01\n",
    "alpha = np.linalg.solve(H + lamb * np.eye(b), h)\n",
    "alpha[alpha < 0] = 0"
   ]
  },
  {
   "cell_type": "code",
   "execution_count": null,
   "metadata": {},
   "outputs": [],
   "source": [
    "np.mean(np.log(np.sum(alpha.reshape(-1, 1) * phi, axis=0)))"
   ]
  },
  {
   "cell_type": "code",
   "execution_count": null,
   "metadata": {},
   "outputs": [],
   "source": [
    "-0.5 * np.log(1 - cov[0, 1]**2 / cov[0, 0] / cov[1, 1])"
   ]
  },
  {
   "cell_type": "code",
   "execution_count": null,
   "metadata": {
    "collapsed": true
   },
   "outputs": [],
   "source": []
  }
 ],
 "metadata": {
  "kernelspec": {
   "display_name": "Python 3",
   "language": "python",
   "name": "python3"
  },
  "language_info": {
   "codemirror_mode": {
    "name": "ipython",
    "version": 3
   },
   "file_extension": ".py",
   "mimetype": "text/x-python",
   "name": "python",
   "nbconvert_exporter": "python",
   "pygments_lexer": "ipython3",
   "version": "3.6.1"
  }
 },
 "nbformat": 4,
 "nbformat_minor": 2
}
