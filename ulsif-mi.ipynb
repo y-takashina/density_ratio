{
 "cells": [
  {
   "cell_type": "code",
   "execution_count": 1,
   "metadata": {},
   "outputs": [],
   "source": [
    "import tqdm\n",
    "import numpy as np\n",
    "import scipy.stats\n",
    "import sklearn\n",
    "import matplotlib.pyplot as plt\n",
    "% matplotlib inline\n",
    "import seaborn as sns\n",
    "sns.set_style('ticks')\n",
    "palette = sns.color_palette(\"RdBu_r\", n_colors=25)\n",
    "\n",
    "import ulsif"
   ]
  },
  {
   "cell_type": "code",
   "execution_count": 20,
   "metadata": {
    "collapsed": true
   },
   "outputs": [],
   "source": [
    "tmis = [-0.5 * np.log(1 - c**2) for c in np.arange(0, 1, 0.1)]"
   ]
  },
  {
   "cell_type": "code",
   "execution_count": 3,
   "metadata": {},
   "outputs": [],
   "source": [
    "n = 300\n",
    "cov = np.array([[1, 0.5], [0.5, 1]])\n",
    "XY = scipy.stats.multivariate_normal(mean=[0, 0], cov=cov).rvs(n)\n",
    "X, Y = np.split(XY, [1], axis=1)"
   ]
  },
  {
   "cell_type": "code",
   "execution_count": 4,
   "metadata": {},
   "outputs": [
    {
     "name": "stdout",
     "output_type": "stream",
     "text": [
      "sigma: 0.010000, lambda: 0.000001, score: 311.438223\n",
      "sigma: 0.010000, lambda: 0.000010, score: 310.838919\n",
      "sigma: 0.010000, lambda: 0.000100, score: 304.875465\n",
      "sigma: 0.010000, lambda: 0.001000, score: 248.054047\n",
      "sigma: 0.010000, lambda: 0.010000, score: -132.117948\n",
      "sigma: 0.010000, lambda: 0.100000, score: -757.303025\n",
      "sigma: 0.100000, lambda: 0.100000, score: -792.040373\n",
      "sigma: 0.300000, lambda: 0.010000, score: -840.624798\n",
      "sigma: 0.500000, lambda: 0.010000, score: -851.876062\n",
      "sigma: 1.000000, lambda: 0.010000, score: -865.250147\n"
     ]
    },
    {
     "data": {
      "text/plain": [
       "<ulsif.MutualInformationCV at 0x7f698a0df4a8>"
      ]
     },
     "execution_count": 4,
     "metadata": {},
     "output_type": "execute_result"
    }
   ],
   "source": [
    "sigmas = [1e-2, 5e-2, 0.1, 0.3, 0.5, 1, 2, 3, 5, 10]\n",
    "lambdas = [1e-6, 1e-5, 1e-4, 1e-3, 1e-2, 1e-1]\n",
    "cv = ulsif.MutualInformationCV(sigmas=sigmas, lambdas=lambdas)\n",
    "cv.fit(X, Y)"
   ]
  },
  {
   "cell_type": "code",
   "execution_count": 18,
   "metadata": {
    "scrolled": false
   },
   "outputs": [
    {
     "name": "stderr",
     "output_type": "stream",
     "text": [
      "\r",
      "  0%|          | 0/10 [00:00<?, ?it/s]"
     ]
    },
    {
     "name": "stdout",
     "output_type": "stream",
     "text": [
      "sigma: 0.010000, lambda: 0.000001, score: 272.922539\n",
      "sigma: 0.010000, lambda: 0.000010, score: 272.781634\n",
      "sigma: 0.010000, lambda: 0.000100, score: 271.374313\n",
      "sigma: 0.010000, lambda: 0.001000, score: 257.472358\n",
      "sigma: 0.010000, lambda: 0.010000, score: 133.821427\n",
      "sigma: 0.010000, lambda: 0.100000, score: -393.489446\n",
      "sigma: 0.050000, lambda: 0.100000, score: -652.978282\n",
      "sigma: 0.100000, lambda: 0.100000, score: -682.337118\n",
      "sigma: 0.300000, lambda: 0.010000, score: -748.404902\n",
      "sigma: 0.500000, lambda: 0.010000, score: -753.212106\n",
      "sigma: 2.000000, lambda: 0.001000, score: -763.976446\n",
      "sigma: 5.000000, lambda: 0.000100, score: -768.309255\n"
     ]
    },
    {
     "name": "stderr",
     "output_type": "stream",
     "text": [
      "\r",
      " 10%|█         | 1/10 [00:17<02:36, 17.39s/it]"
     ]
    },
    {
     "name": "stdout",
     "output_type": "stream",
     "text": [
      "sigma: 0.010000, lambda: 0.000001, score: -425.759034\n",
      "sigma: 0.010000, lambda: 0.000010, score: -425.763933\n",
      "sigma: 0.010000, lambda: 0.000100, score: -425.813349\n",
      "sigma: 0.010000, lambda: 0.001000, score: -426.348650\n",
      "sigma: 0.010000, lambda: 0.010000, score: -434.681648\n",
      "sigma: 0.010000, lambda: 0.100000, score: -539.312457\n",
      "sigma: 0.050000, lambda: 0.100000, score: -583.718312\n",
      "sigma: 0.100000, lambda: 0.010000, score: -584.405669\n",
      "sigma: 0.100000, lambda: 0.100000, score: -616.382608\n",
      "sigma: 0.300000, lambda: 0.001000, score: -675.712504\n",
      "sigma: 0.300000, lambda: 0.010000, score: -684.128083\n",
      "sigma: 0.500000, lambda: 0.001000, score: -710.689839\n",
      "sigma: 1.000000, lambda: 0.000010, score: -715.871103\n",
      "sigma: 1.000000, lambda: 0.000100, score: -741.332431\n",
      "sigma: 2.000000, lambda: 0.000001, score: -741.497800\n",
      "sigma: 2.000000, lambda: 0.000010, score: -748.509236\n",
      "sigma: 5.000000, lambda: 0.000001, score: -762.477805\n"
     ]
    },
    {
     "name": "stderr",
     "output_type": "stream",
     "text": [
      "\r",
      " 20%|██        | 2/10 [00:33<02:16, 17.02s/it]"
     ]
    },
    {
     "name": "stdout",
     "output_type": "stream",
     "text": [
      "sigma: 0.010000, lambda: 0.000001, score: -566.315190\n",
      "sigma: 0.010000, lambda: 0.000010, score: -566.328881\n",
      "sigma: 0.010000, lambda: 0.000100, score: -566.464958\n",
      "sigma: 0.010000, lambda: 0.001000, score: -567.750380\n",
      "sigma: 0.010000, lambda: 0.010000, score: -577.196014\n",
      "sigma: 0.010000, lambda: 0.100000, score: -617.920737\n",
      "sigma: 0.100000, lambda: 0.010000, score: -672.756228\n",
      "sigma: 0.300000, lambda: 0.000100, score: -683.991127\n",
      "sigma: 0.300000, lambda: 0.001000, score: -719.406055\n",
      "sigma: 0.300000, lambda: 0.010000, score: -730.870837\n",
      "sigma: 0.500000, lambda: 0.000100, score: -733.947400\n",
      "sigma: 0.500000, lambda: 0.001000, score: -752.712872\n",
      "sigma: 1.000000, lambda: 0.000001, score: -758.731525\n",
      "sigma: 1.000000, lambda: 0.000100, score: -759.369112\n",
      "sigma: 1.000000, lambda: 0.001000, score: -767.533036\n",
      "sigma: 2.000000, lambda: 0.000010, score: -772.479589\n",
      "sigma: 2.000000, lambda: 0.000100, score: -781.255357\n",
      "sigma: 5.000000, lambda: 0.000001, score: -793.583626\n",
      "sigma: 5.000000, lambda: 0.000010, score: -798.117832\n"
     ]
    },
    {
     "name": "stderr",
     "output_type": "stream",
     "text": [
      "\r",
      " 30%|███       | 3/10 [00:49<01:57, 16.79s/it]"
     ]
    },
    {
     "name": "stdout",
     "output_type": "stream",
     "text": [
      "sigma: 0.010000, lambda: 0.000001, score: -1243.826972\n"
     ]
    },
    {
     "name": "stderr",
     "output_type": "stream",
     "text": [
      "\r",
      " 40%|████      | 4/10 [01:05<01:39, 16.50s/it]"
     ]
    },
    {
     "name": "stdout",
     "output_type": "stream",
     "text": [
      "sigma: 0.010000, lambda: 0.000001, score: -998.405175\n"
     ]
    },
    {
     "name": "stderr",
     "output_type": "stream",
     "text": [
      "\r",
      " 50%|█████     | 5/10 [01:21<01:21, 16.29s/it]"
     ]
    },
    {
     "name": "stdout",
     "output_type": "stream",
     "text": [
      "sigma: 0.010000, lambda: 0.000001, score: -140.463701\n",
      "sigma: 0.010000, lambda: 0.000010, score: -140.683046\n",
      "sigma: 0.010000, lambda: 0.000100, score: -142.867628\n",
      "sigma: 0.010000, lambda: 0.001000, score: -163.877208\n",
      "sigma: 0.010000, lambda: 0.010000, score: -319.654700\n",
      "sigma: 0.010000, lambda: 0.100000, score: -731.474512\n",
      "sigma: 0.050000, lambda: 0.010000, score: -737.772698\n",
      "sigma: 0.050000, lambda: 0.100000, score: -760.990960\n",
      "sigma: 0.100000, lambda: 0.010000, score: -794.455045\n",
      "sigma: 0.300000, lambda: 0.001000, score: -839.862071\n",
      "sigma: 0.500000, lambda: 0.000100, score: -844.378371\n",
      "sigma: 0.500000, lambda: 0.001000, score: -855.888968\n",
      "sigma: 1.000000, lambda: 0.000010, score: -863.330865\n",
      "sigma: 1.000000, lambda: 0.000100, score: -875.521938\n",
      "sigma: 2.000000, lambda: 0.000001, score: -893.506030\n",
      "sigma: 2.000000, lambda: 0.000010, score: -899.751553\n"
     ]
    },
    {
     "name": "stderr",
     "output_type": "stream",
     "text": [
      "\r",
      " 60%|██████    | 6/10 [01:37<01:05, 16.28s/it]"
     ]
    },
    {
     "name": "stdout",
     "output_type": "stream",
     "text": [
      "sigma: 0.010000, lambda: 0.000001, score: -1256.357301\n"
     ]
    },
    {
     "name": "stderr",
     "output_type": "stream",
     "text": [
      "\r",
      " 70%|███████   | 7/10 [01:53<00:48, 16.17s/it]"
     ]
    },
    {
     "name": "stdout",
     "output_type": "stream",
     "text": [
      "sigma: 0.010000, lambda: 0.000001, score: -1260.026896\n"
     ]
    },
    {
     "name": "stderr",
     "output_type": "stream",
     "text": [
      "/home/ytakashina/workspace/density_ratio/ulsif.py:95: RuntimeWarning: invalid value encountered in log\n",
      "  theta = np.linalg.solve(H + lamb * np.eye(b), h)\n"
     ]
    },
    {
     "name": "stdout",
     "output_type": "stream",
     "text": [
      "sigma: 0.300000, lambda: 0.000100, score: -1268.617119\n",
      "sigma: 0.500000, lambda: 0.000001, score: -1272.268608\n",
      "sigma: 0.500000, lambda: 0.000010, score: -1295.815075\n",
      "sigma: 1.000000, lambda: 0.000001, score: -1338.813148\n",
      "sigma: 1.000000, lambda: 0.000010, score: -1339.155725\n",
      "sigma: 2.000000, lambda: 0.000001, score: -1340.905289\n"
     ]
    },
    {
     "name": "stderr",
     "output_type": "stream",
     "text": [
      "\r",
      " 80%|████████  | 8/10 [02:09<00:32, 16.10s/it]"
     ]
    },
    {
     "name": "stdout",
     "output_type": "stream",
     "text": [
      "sigma: 0.010000, lambda: 0.000001, score: 4313.871756\n",
      "sigma: 0.010000, lambda: 0.000010, score: 4301.923801\n",
      "sigma: 0.010000, lambda: 0.000100, score: 4184.573381\n",
      "sigma: 0.010000, lambda: 0.001000, score: 3193.166033\n",
      "sigma: 0.010000, lambda: 0.010000, score: -93.097911\n",
      "sigma: 0.010000, lambda: 0.100000, score: -1213.718235\n",
      "sigma: 0.050000, lambda: 0.010000, score: -1461.813369\n",
      "sigma: 0.100000, lambda: 0.001000, score: -1563.684270\n",
      "sigma: 0.100000, lambda: 0.010000, score: -1600.758016\n",
      "sigma: 0.300000, lambda: 0.000100, score: -1608.608684\n",
      "sigma: 0.300000, lambda: 0.001000, score: -1801.133105\n"
     ]
    },
    {
     "name": "stderr",
     "output_type": "stream",
     "text": [
      "\r",
      " 90%|█████████ | 9/10 [02:25<00:16, 16.08s/it]"
     ]
    },
    {
     "name": "stdout",
     "output_type": "stream",
     "text": [
      "sigma: 0.010000, lambda: 0.000001, score: -2667.871079\n",
      "sigma: 0.300000, lambda: 0.000001, score: -2717.989862\n"
     ]
    },
    {
     "name": "stderr",
     "output_type": "stream",
     "text": [
      "100%|██████████| 10/10 [02:41<00:00, 16.02s/it]\n"
     ]
    }
   ],
   "source": [
    "sigmas = [1e-2, 5e-2, 0.1, 0.3, 0.5, 1, 2, 5]\n",
    "lambdas = [1e-6, 1e-5, 1e-4, 1e-3, 1e-2, 1e-1]\n",
    "\n",
    "mis = []\n",
    "for c in tqdm.tqdm(np.arange(0, 1, 0.1)):\n",
    "    cov = np.array([[1, c], [c, 1]])\n",
    "    XY = scipy.stats.multivariate_normal(mean=[0, 0], cov=cov).rvs(n)\n",
    "    X, Y = np.split(XY, [1], axis=1)\n",
    "    mis += [ulsif.MutualInformationCV(sigmas=sigmas, lambdas=lambdas).fit(X, Y).mi]\n",
    "#     mis += [ulsif.MutualInformation(sigma=cv.sigma_opt, lamb=cv.lambda_opt).fit(X, Y).mi]"
   ]
  },
  {
   "cell_type": "code",
   "execution_count": 21,
   "metadata": {},
   "outputs": [
    {
     "data": {
      "text/plain": [
       "<matplotlib.legend.Legend at 0x7f69806b6748>"
      ]
     },
     "execution_count": 21,
     "metadata": {},
     "output_type": "execute_result"
    },
    {
     "data": {
      "image/png": "[encoded data removed]",
      "text/plain": [
       "<matplotlib.figure.Figure at 0x7f6980870400>"
      ]
     },
     "metadata": {},
     "output_type": "display_data"
    }
   ],
   "source": [
    "plt.plot(np.arange(0, 1, 0.1), tmis, label='theoretical')\n",
    "plt.plot(np.arange(0, 1, 0.1), mis, label='approx.')\n",
    "plt.legend()"
   ]
  },
  {
   "cell_type": "code",
   "execution_count": null,
   "metadata": {
    "collapsed": true
   },
   "outputs": [],
   "source": []
  }
 ],
 "metadata": {
  "kernelspec": {
   "display_name": "py36",
   "language": "python",
   "name": "py36"
  },
  "language_info": {
   "codemirror_mode": {
    "name": "ipython",
    "version": 3
   },
   "file_extension": ".py",
   "mimetype": "text/x-python",
   "name": "python",
   "nbconvert_exporter": "python",
   "pygments_lexer": "ipython3",
   "version": "3.6.1"
  }
 },
 "nbformat": 4,
 "nbformat_minor": 2
}
