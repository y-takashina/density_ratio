{
 "cells": [
  {
   "cell_type": "code",
   "execution_count": 1,
   "metadata": {
    "collapsed": true
   },
   "outputs": [],
   "source": [
    "import tqdm\n",
    "import numpy as np\n",
    "import scipy.stats\n",
    "import sklearn.covariance\n",
    "import matplotlib.pyplot as plt\n",
    "% matplotlib inline\n",
    "import seaborn as sns\n",
    "sns.set_style('ticks')\n",
    "palette = sns.color_palette(\"RdBu_r\", n_colors=25)\n",
    "\n",
    "import ulsif"
   ]
  },
  {
   "cell_type": "code",
   "execution_count": null,
   "metadata": {
    "collapsed": true
   },
   "outputs": [],
   "source": [
    "tmis = [-0.5 * np.log(1 - c**2) for c in np.arange(0, 1, 0.1)]"
   ]
  },
  {
   "cell_type": "code",
   "execution_count": null,
   "metadata": {
    "scrolled": false
   },
   "outputs": [],
   "source": [
    "mis = []\n",
    "for c in tqdm.tqdm(np.arange(0, 1, 0.1)):\n",
    "    cov = np.array([[1, c], [c, 1]])\n",
    "    XY = scipy.stats.multivariate_normal(mean=[0, 0], cov=cov).rvs(1000)\n",
    "    X, Y = np.split(XY, [1], axis=1)\n",
    "#     mis += [ulsif.mutual_information(X, Y, sigma=0.5, lamb=0.01)]\n",
    "    mis += [ulsif.MutualInformation(sigma=0.5, lamb=0.01).fit(X, Y).mi]"
   ]
  },
  {
   "cell_type": "code",
   "execution_count": null,
   "metadata": {},
   "outputs": [],
   "source": [
    "plt.plot(np.arange(0, 1, 0.1), tmis, label='theoretical')\n",
    "plt.plot(np.arange(0, 1, 0.1), mis, label='approx.')\n",
    "plt.legend()"
   ]
  },
  {
   "cell_type": "code",
   "execution_count": 2,
   "metadata": {},
   "outputs": [
    {
     "name": "stdout",
     "output_type": "stream",
     "text": [
      "[[ 1.   0.5  0. ]\n",
      " [ 0.5  1.  -0.4]\n",
      " [ 0.  -0.4  1. ]]\n"
     ]
    }
   ],
   "source": [
    "pre = [[1,   0.5,    0],\n",
    "       [0.5,   1, -0.4],\n",
    "       [0,  -0.4,    1]]\n",
    "cov = np.linalg.inv(pre)\n",
    "print(np.array(pre))\n",
    "X = scipy.stats.multivariate_normal(mean=[0, 0, 0], cov=cov).rvs(3000)"
   ]
  },
  {
   "cell_type": "code",
   "execution_count": 3,
   "metadata": {
    "scrolled": true
   },
   "outputs": [
    {
     "name": "stderr",
     "output_type": "stream",
     "text": [
      "100%|██████████| 3/3 [00:09<00:00,  3.28s/it]\n"
     ]
    },
    {
     "data": {
      "text/plain": [
       "array([[ 0.        , -0.19135257, -0.34548699],\n",
       "       [-0.19135257,  0.        , -0.27296984],\n",
       "       [-0.34548699, -0.27296984,  0.        ]])"
      ]
     },
     "execution_count": 3,
     "metadata": {},
     "output_type": "execute_result"
    }
   ],
   "source": [
    "d = 3\n",
    "mi = np.zeros([d, d])\n",
    "cmi = np.zeros([d, d])\n",
    "for i, j in tqdm.tqdm([(i, j) for i in range(d) for j in range(d) if i > j]):\n",
    "    mask = (np.arange(d) != i) & (np.arange(d) != j)\n",
    "    mi[i, j] = mi[j, i] = ulsif.mutual_information(X=X[:, i].reshape(-1, 1), Y=X[:, j].reshape(-1, 1))\n",
    "    mi_xz = ulsif.mutual_information(X=X[:, i].reshape(-1, 1), Y=X[:, mask])\n",
    "    mi_yz = ulsif.mutual_information(X=X[:, j].reshape(-1, 1), Y=X[:, mask])\n",
    "    mi_xyz = ulsif.mutual_information(X=X[:, i].reshape(-1, 1), Y=X[:, j].reshape(-1, 1), Z=X[:, mask])\n",
    "    cmi[i, j] = cmi[j, i] = mi_xyz - (mi_xz + mi_yz)\n",
    "\n",
    "cmi"
   ]
  },
  {
   "cell_type": "code",
   "execution_count": null,
   "metadata": {},
   "outputs": [],
   "source": [
    "model = sklearn.covariance.GraphLasso(alpha=0.3, assume_centered=True)\n",
    "model.fit(X)"
   ]
  },
  {
   "cell_type": "code",
   "execution_count": null,
   "metadata": {},
   "outputs": [],
   "source": [
    "f, axes = plt.subplots(1, 3, figsize=[12, 3])\n",
    "axes[0].set_title('glasso')\n",
    "axes[1].set_title('mi')\n",
    "axes[2].set_title('cmi')\n",
    "sns.heatmap(model.precision_, annot=True, ax=axes[0], center=0, cmap=palette)\n",
    "sns.heatmap(mi, annot=True, ax=axes[1], center=0, cmap=palette)\n",
    "sns.heatmap(cmi, annot=True, ax=axes[2], center=0, cmap=palette)"
   ]
  },
  {
   "cell_type": "code",
   "execution_count": null,
   "metadata": {
    "collapsed": true
   },
   "outputs": [],
   "source": []
  }
 ],
 "metadata": {
  "kernelspec": {
   "display_name": "py36",
   "language": "python",
   "name": "py36"
  },
  "language_info": {
   "codemirror_mode": {
    "name": "ipython",
    "version": 3
   },
   "file_extension": ".py",
   "mimetype": "text/x-python",
   "name": "python",
   "nbconvert_exporter": "python",
   "pygments_lexer": "ipython3",
   "version": "3.6.1"
  }
 },
 "nbformat": 4,
 "nbformat_minor": 2
}
