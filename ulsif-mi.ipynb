{
 "cells": [
  {
   "cell_type": "code",
   "execution_count": 1,
   "metadata": {
    "collapsed": true
   },
   "outputs": [],
   "source": [
    "import tqdm\n",
    "import numpy as np\n",
    "import scipy.stats\n",
    "import sklearn.covariance\n",
    "import matplotlib.pyplot as plt\n",
    "% matplotlib inline\n",
    "import seaborn as sns\n",
    "sns.set_style('ticks')\n",
    "palette = sns.color_palette(\"RdBu_r\", n_colors=25)\n",
    "\n",
    "import ulsif"
   ]
  },
  {
   "cell_type": "code",
   "execution_count": 2,
   "metadata": {
    "collapsed": true
   },
   "outputs": [],
   "source": [
    "tmis = [-0.5 * np.log(1 - c**2) for c in np.arange(0, 1, 0.1)]"
   ]
  },
  {
   "cell_type": "code",
   "execution_count": 3,
   "metadata": {
    "collapsed": true
   },
   "outputs": [],
   "source": [
    "n = 1000\n",
    "cov = np.array([[1, 0.5], [0.5, 1]])\n",
    "XY = scipy.stats.multivariate_normal(mean=[0, 0], cov=cov).rvs(n)\n",
    "X, Y = np.split(XY, [1], axis=1)"
   ]
  },
  {
   "cell_type": "code",
   "execution_count": 4,
   "metadata": {
    "scrolled": false
   },
   "outputs": [
    {
     "name": "stderr",
     "output_type": "stream",
     "text": [
      "100%|██████████| 10/10 [00:03<00:00,  2.95it/s]\n"
     ]
    }
   ],
   "source": [
    "mis = []\n",
    "for c in tqdm.tqdm(np.arange(0, 1, 0.1)):\n",
    "    cov = np.array([[1, c], [c, 1]])\n",
    "    XY = scipy.stats.multivariate_normal(mean=[0, 0], cov=cov).rvs(n)\n",
    "    X, Y = np.split(XY, [1], axis=1)\n",
    "    mis += [ulsif.mutual_information(X, Y, sigma=1, lamb=1e-3)]"
   ]
  },
  {
   "cell_type": "code",
   "execution_count": 5,
   "metadata": {},
   "outputs": [
    {
     "data": {
      "text/plain": [
       "<matplotlib.legend.Legend at 0x7f5a51694b00>"
      ]
     },
     "execution_count": 5,
     "metadata": {},
     "output_type": "execute_result"
    },
    {
     "data": {
      "image/png": "[encoded data removed]",
      "text/plain": [
       "<matplotlib.figure.Figure at 0x7f5a557ef588>"
      ]
     },
     "metadata": {},
     "output_type": "display_data"
    }
   ],
   "source": [
    "plt.plot(np.arange(0, 1, 0.1), tmis, label='theoretical')\n",
    "plt.plot(np.arange(0, 1, 0.1), mis, label='approx.')\n",
    "plt.legend()"
   ]
  },
  {
   "cell_type": "code",
   "execution_count": null,
   "metadata": {},
   "outputs": [],
   "source": [
    "pre = [[1,   0.5,    0],\n",
    "       [0.5,   1, -0.4],\n",
    "       [0,  -0.4,    1]]\n",
    "cov = np.linalg.inv(pre)\n",
    "print(np.array(pre))\n",
    "X = scipy.stats.multivariate_normal(mean=[0, 0, 0], cov=cov).rvs(3000)"
   ]
  },
  {
   "cell_type": "code",
   "execution_count": null,
   "metadata": {
    "scrolled": true
   },
   "outputs": [],
   "source": [
    "d = 3\n",
    "mi = np.zeros([d, d])\n",
    "cmi = np.zeros([d, d])\n",
    "for i, j in tqdm.tqdm([(i, j) for i in range(d) for j in range(d) if i > j]):\n",
    "    mask = (np.arange(d) != i) & (np.arange(d) != j)\n",
    "    mi[i, j] = mi[j, i] = ulsif.mutual_information(X=X[:, i].reshape(-1, 1), Y=X[:, j].reshape(-1, 1), sigma=0.3)\n",
    "    mi_xz = ulsif.mutual_information(X=X[:, i].reshape(-1, 1), Y=X[:, mask], sigma=0.3)\n",
    "    mi_yz = ulsif.mutual_information(X=X[:, j].reshape(-1, 1), Y=X[:, mask], sigma=0.3)\n",
    "    mi_xyz = ulsif.mutual_information(X=X[:, i].reshape(-1, 1), Y=X[:, j].reshape(-1, 1), Z=X[:, mask], sigma=0.3)\n",
    "    cmi[i, j] = cmi[j, i] = mi_xyz - (mi_xz + mi_yz)\n",
    "\n",
    "cmi"
   ]
  },
  {
   "cell_type": "code",
   "execution_count": null,
   "metadata": {},
   "outputs": [],
   "source": [
    "model = sklearn.covariance.GraphLasso(alpha=0.3, assume_centered=True)\n",
    "model.fit(X)"
   ]
  },
  {
   "cell_type": "code",
   "execution_count": null,
   "metadata": {},
   "outputs": [],
   "source": [
    "f, axes = plt.subplots(1, 3, figsize=[12, 3])\n",
    "axes[0].set_title('glasso')\n",
    "axes[1].set_title('mi')\n",
    "axes[2].set_title('cmi')\n",
    "sns.heatmap(model.precision_, annot=True, ax=axes[0], center=0, cmap=palette)\n",
    "sns.heatmap(mi, annot=True, ax=axes[1], center=0, cmap=palette)\n",
    "sns.heatmap(cmi, annot=True, ax=axes[2], center=0, cmap=palette)"
   ]
  },
  {
   "cell_type": "code",
   "execution_count": null,
   "metadata": {
    "collapsed": true
   },
   "outputs": [],
   "source": []
  }
 ],
 "metadata": {
  "kernelspec": {
   "display_name": "py36",
   "language": "python",
   "name": "py36"
  },
  "language_info": {
   "codemirror_mode": {
    "name": "ipython",
    "version": 3
   },
   "file_extension": ".py",
   "mimetype": "text/x-python",
   "name": "python",
   "nbconvert_exporter": "python",
   "pygments_lexer": "ipython3",
   "version": "3.6.1"
  }
 },
 "nbformat": 4,
 "nbformat_minor": 2
}
