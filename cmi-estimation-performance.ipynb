{
 "cells": [
  {
   "cell_type": "code",
   "execution_count": 1,
   "metadata": {},
   "outputs": [
    {
     "data": {
      "text/html": [
       "<script>requirejs.config({paths: { 'plotly': ['https://cdn.plot.ly/plotly-latest.min']},});if(!window.Plotly) {{require(['plotly'],function(plotly) {window.Plotly=plotly;});}}</script>"
      ],
      "text/vnd.plotly.v1+html": [
       "<script>requirejs.config({paths: { 'plotly': ['https://cdn.plot.ly/plotly-latest.min']},});if(!window.Plotly) {{require(['plotly'],function(plotly) {window.Plotly=plotly;});}}</script>"
      ]
     },
     "metadata": {},
     "output_type": "display_data"
    }
   ],
   "source": [
    "import tqdm\n",
    "import numpy as np\n",
    "import scipy.stats\n",
    "import pandas as pd\n",
    "import sklearn\n",
    "from sklearn.feature_selection import mutual_info_regression\n",
    "import sklearn.covariance\n",
    "import networkx as nx\n",
    "import matplotlib.pyplot as plt\n",
    "% matplotlib inline\n",
    "import matplotlib\n",
    "matplotlib.rcParams['pdf.fonttype'] = 42\n",
    "import seaborn as sns\n",
    "sns.set_style('ticks')\n",
    "palette = sns.color_palette(\"RdBu_r\", n_colors=25)\n",
    "import plotly\n",
    "plotly.offline.init_notebook_mode(connected=True)\n",
    "\n",
    "import kliep"
   ]
  },
  {
   "cell_type": "code",
   "execution_count": 2,
   "metadata": {
    "collapsed": true
   },
   "outputs": [],
   "source": [
    "def calc_cmi(cov):\n",
    "    H = np.linalg.slogdet(cov)[1] / 2\n",
    "    H1 = [np.linalg.slogdet(np.delete(np.delete(cov, [i], axis=0), [i], axis=1))[1] / 2 for i in range(3)]\n",
    "    H2 = [[np.linalg.slogdet(np.delete(np.delete(cov, [i, j], axis=0), [i, j], axis=1))[1] / 2 for i in range(3)] for j in range(3)]\n",
    "    cmi = np.array([[H1[i] + H1[j] - (H + H2[i][j]) for i in range(3)] for j in range(3)])\n",
    "    cmi[np.eye(3, dtype=bool)] = None\n",
    "    return cmi"
   ]
  },
  {
   "cell_type": "code",
   "execution_count": 3,
   "metadata": {
    "collapsed": true
   },
   "outputs": [],
   "source": [
    "pre = [[1,   0.8,    0],\n",
    "       [0.8,   1, -0.4],\n",
    "       [0,  -0.4,    1]]\n",
    "diag = np.sqrt(np.diag(np.linalg.inv(pre)))\n",
    "pre = pre * diag.reshape(-1, 1) * diag.reshape(1, -1)\n",
    "cov = np.linalg.inv(pre)\n",
    "X = scipy.stats.multivariate_normal(mean=[0, 0, 0], cov=cov).rvs(3000)"
   ]
  },
  {
   "cell_type": "code",
   "execution_count": 4,
   "metadata": {},
   "outputs": [
    {
     "data": {
      "text/plain": [
       "<matplotlib.axes._subplots.AxesSubplot at 0x7f3f2d016e10>"
      ]
     },
     "execution_count": 4,
     "metadata": {},
     "output_type": "execute_result"
    },
    {
     "data": {
      "image/png": "[encoded data removed]",
      "text/plain": [
       "<matplotlib.figure.Figure at 0x7f3f1533de48>"
      ]
     },
     "metadata": {},
     "output_type": "display_data"
    }
   ],
   "source": [
    "plt.figure(figsize=[5, 5])\n",
    "sns.heatmap(calc_cmi(cov), annot=True, center=0, cmap=palette, cbar=False)"
   ]
  },
  {
   "cell_type": "code",
   "execution_count": null,
   "metadata": {
    "collapsed": true
   },
   "outputs": [],
   "source": [
    "def mutual_information_knn(X, Y, k=3):\n",
    "    n_x, d_x = X.shape\n",
    "    n_y, d_y = Y.shape\n",
    "    n = n_x\n",
    "    XY = np.hstack([X, Y])\n",
    "    knn_xy = sklearn.neighbors.NearestNeighbors(n_neighbors=k)\n",
    "    knn_xy.fit(XY)\n",
    "    distances, points_xy = knn_xy.kneighbors()\n",
    "    epsilon_x = np.max(np.linalg.norm(X.reshape([n, -1, d_x]) - X[points_xy], axis=2), axis=1)\n",
    "    epsilon_y = np.max(np.linalg.norm(Y.reshape([n, -1, d_y]) - Y[points_xy], axis=2), axis=1)\n",
    "    n_x = np.sum(np.linalg.norm(X.reshape([n_x, -1, d_x]) - X, axis=2) < epsilon_x, axis=1)\n",
    "    n_y = np.sum(np.linalg.norm(Y.reshape([n_y, -1, d_y]) - Y, axis=2) < epsilon_y, axis=1)\n",
    "    mi = scipy.special.digamma(k) + scipy.special.digamma(n)\n",
    "    mi -= 1/k + np.mean(scipy.special.digamma(n_x + 1) + scipy.special.digamma(n_y + 1))\n",
    "    return mi"
   ]
  },
  {
   "cell_type": "code",
   "execution_count": 6,
   "metadata": {},
   "outputs": [
    {
     "data": {
      "text/plain": [
       "(3000, 3)"
      ]
     },
     "execution_count": 6,
     "metadata": {},
     "output_type": "execute_result"
    }
   ],
   "source": [
    "X.shape"
   ]
  },
  {
   "cell_type": "code",
   "execution_count": 15,
   "metadata": {},
   "outputs": [
    {
     "data": {
      "text/plain": [
       "(3000, 2)"
      ]
     },
     "execution_count": 15,
     "metadata": {},
     "output_type": "execute_result"
    }
   ],
   "source": [
    "Y = scipy.stats.multivariate_normal(mean=[0, 0], cov=np.eye(2)).rvs(3000)\n",
    "Y.shape"
   ]
  },
  {
   "cell_type": "code",
   "execution_count": 38,
   "metadata": {},
   "outputs": [
    {
     "data": {
      "text/plain": [
       "(3000, 5, 3)"
      ]
     },
     "execution_count": 38,
     "metadata": {},
     "output_type": "execute_result"
    }
   ],
   "source": [
    "distances_x = np.linalg.norm(X.reshape([3000, -1, 3]) - X, axis=2)\n",
    "distances_y = np.linalg.norm(Y.reshape([3000, -1, 2]) - Y, axis=2)\n",
    "distances = np.max([distances_x, distances_y], axis=0)\n",
    "indices = np.argsort(distances, axis=1)[:, 1:6]\n",
    "X[indices].shape"
   ]
  },
  {
   "cell_type": "code",
   "execution_count": 41,
   "metadata": {
    "collapsed": true
   },
   "outputs": [],
   "source": [
    "def mutual_information_knn(X, Y, k=3):\n",
    "    n_x, d_x = X.shape\n",
    "    n_y, d_y = Y.shape\n",
    "    n = n_x\n",
    "    distances_x = np.linalg.norm(X.reshape([n, -1, d_x]) - X, axis=2)\n",
    "    distances_y = np.linalg.norm(Y.reshape([n, -1, d_y]) - Y, axis=2)\n",
    "    distances = np.max([distances_x, distances_y], axis=0)\n",
    "    epsilons = np.sort(distances, axis=1)[:, k + 1]\n",
    "    n_x = np.sum(np.linalg.norm(X.reshape([n_x, -1, d_x]) - X, axis=2) < epsilons, axis=1)\n",
    "    n_y = np.sum(np.linalg.norm(Y.reshape([n_y, -1, d_y]) - Y, axis=2) < epsilons, axis=1)\n",
    "    mi = scipy.special.digamma(k) + scipy.special.digamma(n)\n",
    "    mi -= 1/k + np.mean(scipy.special.digamma(n_x + 1) + scipy.special.digamma(n_y + 1))\n",
    "    return mi"
   ]
  },
  {
   "cell_type": "code",
   "execution_count": 46,
   "metadata": {
    "collapsed": true
   },
   "outputs": [],
   "source": [
    "def mutual_information_knn2(X, Y, k=3):\n",
    "    n_x, d_x = X.shape\n",
    "    n_y, d_y = Y.shape\n",
    "    n = n_x\n",
    "    ks = np.repeat(k, n)\n",
    "    distances_x = np.linalg.norm(X.reshape([n, -1, d_x]) - X, axis=2)\n",
    "    distances_y = np.linalg.norm(Y.reshape([n, -1, d_y]) - Y, axis=2)\n",
    "    distances = np.max([distances_x, distances_y], axis=0)\n",
    "    epsilons = np.sort(distances, axis=1)[:, k + 1]\n",
    "    ks[epsilons == 0] = np.sum(distances == 0, axis=1)[epsilons == 0]\n",
    "    n_x = np.sum(np.linalg.norm(X.reshape([n_x, -1, d_x]) - X, axis=2) < epsilons, axis=1)\n",
    "    n_y = np.sum(np.linalg.norm(Y.reshape([n_y, -1, d_y]) - Y, axis=2) < epsilons, axis=1)\n",
    "    mi = np.mean(scipy.special.digamma(ks)) + np.log(n) / n\n",
    "    mi -= np.mean(scipy.special.digamma(n_x + 1) + scipy.special.digamma(n_y + 1))\n",
    "    return mi"
   ]
  },
  {
   "cell_type": "code",
   "execution_count": 51,
   "metadata": {
    "scrolled": false
   },
   "outputs": [
    {
     "name": "stderr",
     "output_type": "stream",
     "text": [
      "100%|██████████| 10/10 [00:01<00:00,  8.70it/s]\n"
     ]
    }
   ],
   "source": [
    "tmis = []\n",
    "cmis = []\n",
    "cmis_knn3 = []\n",
    "cmis_knn5 = []\n",
    "cmis_knn15 = []\n",
    "for c in tqdm.tqdm(np.arange(0, 1, 0.1)):\n",
    "    pre = [[1,    c,    0],\n",
    "           [c,    1, -0.4],\n",
    "           [0, -0.4,    1]]\n",
    "    diag = np.sqrt(np.diag(np.linalg.inv(pre)))\n",
    "    pre = pre * diag.reshape(-1, 1) * diag.reshape(1, -1)\n",
    "    cov = np.linalg.inv(pre)\n",
    "    X = scipy.stats.multivariate_normal(mean=[0, 0, 0], cov=cov).rvs(500)\n",
    "    \n",
    "    tmis += [calc_cmi(cov)[0][1]]\n",
    "\n",
    "    xz = X[:, np.arange(3) != 0]\n",
    "    y = X[:, [0]]\n",
    "    z = X[:, (np.arange(3) != 0) & (np.arange(3) != 1)]\n",
    "#     mi_xz_y = kliep.MutualInformationEstimatorCV().fit(xz, y).mi\n",
    "#     mi_z_y = kliep.MutualInformationEstimatorCV().fit(z, y).mi\n",
    "#     cmis += [mi_xz_y - mi_z_y]\n",
    "    cmis_knn3 += [mutual_information_knn2(xz, y, k=3) - mutual_information_knn2(y, z, k=3)]\n",
    "    cmis_knn5 += [mutual_information_knn2(xz, y, k=5) - mutual_information_knn2(y, z, k=5)]\n",
    "    cmis_knn15 += [mutual_information_knn2(xz, y, k=15) - mutual_information_knn2(y, z, k=15)]"
   ]
  },
  {
   "cell_type": "code",
   "execution_count": 52,
   "metadata": {
    "scrolled": false
   },
   "outputs": [
    {
     "data": {
      "text/plain": [
       "<matplotlib.legend.Legend at 0x7f3f092f60b8>"
      ]
     },
     "execution_count": 52,
     "metadata": {},
     "output_type": "execute_result"
    },
    {
     "data": {
      "image/png": "[encoded data removed]",
      "text/plain": [
       "<matplotlib.figure.Figure at 0x7f3f09347ba8>"
      ]
     },
     "metadata": {},
     "output_type": "display_data"
    }
   ],
   "source": [
    "plt.plot(np.arange(0, 1, 0.1), tmis, label='theoretical')\n",
    "# plt.plot(np.arange(0, 1, 0.1), cmis, label='dense ratio.')\n",
    "plt.plot(np.arange(0, 1, 0.1), cmis_knn3, label='knn3')\n",
    "plt.plot(np.arange(0, 1, 0.1), cmis_knn5, label='knn5')\n",
    "plt.plot(np.arange(0, 1, 0.1), cmis_knn15, label='knn15')\n",
    "plt.legend()"
   ]
  },
  {
   "cell_type": "code",
   "execution_count": null,
   "metadata": {
    "scrolled": false
   },
   "outputs": [],
   "source": [
    "pre = [[   1,  0.5,    0],\n",
    "       [ 0.5,    1, -0.5],\n",
    "       [   0, -0.5,    1]]\n",
    "diag = np.sqrt(np.diag(np.linalg.inv(pre)))\n",
    "pre = pre * diag.reshape(-1, 1) * diag.reshape(1, -1)\n",
    "cov = np.linalg.inv(pre)\n",
    "\n",
    "tmi = calc_cmi(cov)[0][1]\n",
    "cmis = []\n",
    "cmis_knn3 = []\n",
    "cmis_knn5 = []\n",
    "cmis_knn15 = []\n",
    "for n in tqdm.tqdm(np.arange(50, 550, 50)):\n",
    "    X = scipy.stats.multivariate_normal(mean=[0, 0, 0], cov=cov).rvs(n)\n",
    "    xz = X[:, np.arange(3) != 0]\n",
    "    y = X[:, [0]]\n",
    "    z = X[:, (np.arange(3) != 0) & (np.arange(3) != 1)]\n",
    "    cmis += [kliep.mutual_information(xz, y, sigma=0.8) - kliep.mutual_information(y, z, sigma=0.8)]\n",
    "    cmis_knn3 += [mutual_information_knn(xz, y, k=3) - mutual_information_knn(y, z, k=3)]\n",
    "    cmis_knn5 += [mutual_information_knn(xz, y, k=5) - mutual_information_knn(y, z, k=5)]\n",
    "    cmis_knn15 += [mutual_information_knn(xz, y, k=15) - mutual_information_knn(y, z, k=15)]"
   ]
  },
  {
   "cell_type": "code",
   "execution_count": null,
   "metadata": {},
   "outputs": [],
   "source": [
    "plt.plot(np.arange(50, 550, 50), np.abs(np.array(cmis) - tmi), label='Proposed')\n",
    "plt.plot(np.arange(50, 550, 50), np.abs(np.array(cmis_knn3) - tmi), label='kNN(3)')\n",
    "plt.plot(np.arange(50, 550, 50), np.abs(np.array(cmis_knn5) - tmi), label='kNN(5)')\n",
    "plt.plot(np.arange(50, 550, 50), np.abs(np.array(cmis_knn15) - tmi), label='kNN(15)')\n",
    "plt.ylim([0, None])\n",
    "plt.legend()"
   ]
  },
  {
   "cell_type": "markdown",
   "metadata": {},
   "source": [
    "## Multivariate Gaussian mixture"
   ]
  },
  {
   "cell_type": "code",
   "execution_count": 154,
   "metadata": {},
   "outputs": [
    {
     "data": {
      "text/plain": [
       "(1000, 3)"
      ]
     },
     "execution_count": 154,
     "metadata": {},
     "output_type": "execute_result"
    }
   ],
   "source": [
    "cluster = (np.arange(1000) < 500).astype(int)\n",
    "X1 = scipy.stats.multivariate_normal(mean=[-4, 0], cov=np.eye(2)).rvs(500)\n",
    "X2 = scipy.stats.multivariate_normal(mean=[+4, 0], cov=np.eye(2)).rvs(500)\n",
    "X = np.vstack([X1, X2])\n",
    "X = (X - np.mean(X, axis=0)) / np.std(X, axis=0)\n",
    "X = np.hstack([X, cluster.reshape(-1, 1)])\n",
    "X.shape"
   ]
  },
  {
   "cell_type": "code",
   "execution_count": 155,
   "metadata": {},
   "outputs": [],
   "source": [
    "cmis_knn3 = np.eye(3)\n",
    "cmis_knn5 = np.eye(3)\n",
    "cmis_knn15 = np.eye(3)\n",
    "for i, j in [(i, j) for i in range(3) for j in range(3) if i != j]:\n",
    "    y = X[:, [j]]\n",
    "    xz = X[:, np.arange(3) != j]\n",
    "    z = X[:, (np.arange(3) != i) & (np.arange(3) != j)]\n",
    "    cmis_knn3[i, j] = mutual_information_knn(xz, y, k=3) - mutual_information_knn(y, z, k=3)\n",
    "    cmis_knn5[i, j] = mutual_information_knn(xz, y, k=5) - mutual_information_knn(y, z, k=5)\n",
    "    cmis_knn15[i, j] = mutual_information_knn(xz, y, k=15) - mutual_information_knn(y, z, k=15)\n",
    "\n",
    "cmis_knn3[np.eye(3, dtype=bool)] = None\n",
    "cmis_knn5[np.eye(3, dtype=bool)] = None\n",
    "cmis_knn15[np.eye(3, dtype=bool)] = None"
   ]
  },
  {
   "cell_type": "code",
   "execution_count": 156,
   "metadata": {},
   "outputs": [
    {
     "data": {
      "text/plain": [
       "<seaborn.axisgrid.PairGrid at 0x7f3e8f603240>"
      ]
     },
     "execution_count": 156,
     "metadata": {},
     "output_type": "execute_result"
    },
    {
     "data": {
      "image/png": "[encoded data removed]",
      "text/plain": [
       "<matplotlib.figure.Figure at 0x7f3e8f677b00>"
      ]
     },
     "metadata": {},
     "output_type": "display_data"
    },
    {
     "data": {
      "image/png": "[encoded data removed]",
      "text/plain": [
       "<matplotlib.figure.Figure at 0x7f3e8f51da90>"
      ]
     },
     "metadata": {},
     "output_type": "display_data"
    }
   ],
   "source": [
    "f, axes = plt.subplots(1, 3, figsize=[13, 4])\n",
    "sns.heatmap(cmis_knn3, annot=True, ax=axes[0], center=0, cmap=palette, cbar=False)\n",
    "sns.heatmap(cmis_knn3, annot=True, ax=axes[1], center=0, cmap=palette, cbar=False)\n",
    "sns.heatmap(cmis_knn3, annot=True, ax=axes[2], center=0, cmap=palette, cbar=False)\n",
    "sns.pairplot(pd.DataFrame(X).sample(300), size=1.5, plot_kws={\"s\": 20}, hue=2)"
   ]
  },
  {
   "cell_type": "code",
   "execution_count": 157,
   "metadata": {},
   "outputs": [
    {
     "data": {
      "text/plain": [
       "(1500, 3)"
      ]
     },
     "execution_count": 157,
     "metadata": {},
     "output_type": "execute_result"
    }
   ],
   "source": [
    "cluster = np.arange(1500)\n",
    "cluster[cluster < 500] = 0\n",
    "cluster[(cluster > 500) & (cluster < 1000)] = 1\n",
    "cluster[cluster >= 1000] = 2\n",
    "X1 = scipy.stats.multivariate_normal(mean=[-6, 0], cov=np.eye(2)).rvs(500)\n",
    "X2 = scipy.stats.multivariate_normal(mean=[+6, 0], cov=np.eye(2)).rvs(500)\n",
    "X3 = scipy.stats.multivariate_normal(mean=[ 0, 8], cov=np.eye(2)).rvs(500)\n",
    "X = np.vstack([X1, X2, X3])\n",
    "X = (X - np.mean(X, axis=0)) / np.std(X, axis=0)\n",
    "X = np.hstack([X, cluster.reshape(-1, 1)])\n",
    "X.shape"
   ]
  },
  {
   "cell_type": "code",
   "execution_count": 159,
   "metadata": {},
   "outputs": [],
   "source": [
    "cmis_knn3 = np.eye(3)\n",
    "cmis_knn5 = np.eye(3)\n",
    "cmis_knn15 = np.eye(3)\n",
    "for i, j in [(i, j) for i in range(3) for j in range(3) if i != j]:\n",
    "    y = X[:, [j]]\n",
    "    xz = X[:, np.arange(3) != j]\n",
    "    z = X[:, (np.arange(3) != i) & (np.arange(3) != j)]\n",
    "    cmis_knn3[i, j] = mutual_information_knn(xz, y, k=3) - mutual_information_knn(y, z, k=3)\n",
    "    cmis_knn5[i, j] = mutual_information_knn(xz, y, k=5) - mutual_information_knn(y, z, k=5)\n",
    "    cmis_knn15[i, j] = mutual_information_knn(xz, y, k=15) - mutual_information_knn(y, z, k=15)\n",
    "\n",
    "cmis_knn3[np.eye(3, dtype=bool)] = None\n",
    "cmis_knn5[np.eye(3, dtype=bool)] = None\n",
    "cmis_knn15[np.eye(3, dtype=bool)] = None"
   ]
  },
  {
   "cell_type": "code",
   "execution_count": 161,
   "metadata": {},
   "outputs": [
    {
     "data": {
      "text/plain": [
       "<seaborn.axisgrid.PairGrid at 0x7f3e8eae8860>"
      ]
     },
     "execution_count": 161,
     "metadata": {},
     "output_type": "execute_result"
    },
    {
     "data": {
      "image/png": "[encoded data removed]",
      "text/plain": [
       "<matplotlib.figure.Figure at 0x7f3e8ebf79b0>"
      ]
     },
     "metadata": {},
     "output_type": "display_data"
    },
    {
     "data": {
      "image/png": "[encoded data removed]",
      "text/plain": [
       "<matplotlib.figure.Figure at 0x7f3e8ec97ba8>"
      ]
     },
     "metadata": {},
     "output_type": "display_data"
    }
   ],
   "source": [
    "f, axes = plt.subplots(1, 3, figsize=[13, 4])\n",
    "sns.heatmap(cmis_knn3, annot=True, ax=axes[0], center=0, cmap=palette, cbar=False)\n",
    "sns.heatmap(cmis_knn3, annot=True, ax=axes[1], center=0, cmap=palette, cbar=False)\n",
    "sns.heatmap(cmis_knn3, annot=True, ax=axes[2], center=0, cmap=palette, cbar=False)\n",
    "sns.pairplot(pd.DataFrame(X).sample(300), size=1.5, plot_kws={\"s\": 20}, hue=2)"
   ]
  },
  {
   "cell_type": "code",
   "execution_count": null,
   "metadata": {
    "collapsed": true
   },
   "outputs": [],
   "source": []
  }
 ],
 "metadata": {
  "kernelspec": {
   "display_name": "py36",
   "language": "python",
   "name": "py36"
  },
  "language_info": {
   "codemirror_mode": {
    "name": "ipython",
    "version": 3
   },
   "file_extension": ".py",
   "mimetype": "text/x-python",
   "name": "python",
   "nbconvert_exporter": "python",
   "pygments_lexer": "ipython3",
   "version": "3.6.3"
  }
 },
 "nbformat": 4,
 "nbformat_minor": 2
}
