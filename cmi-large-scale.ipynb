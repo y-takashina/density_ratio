{
 "cells": [
  {
   "cell_type": "code",
   "execution_count": 1,
   "metadata": {},
   "outputs": [
    {
     "data": {
      "text/html": [
       "<script>requirejs.config({paths: { 'plotly': ['https://cdn.plot.ly/plotly-latest.min']},});if(!window.Plotly) {{require(['plotly'],function(plotly) {window.Plotly=plotly;});}}</script>"
      ],
      "text/vnd.plotly.v1+html": [
       "<script>requirejs.config({paths: { 'plotly': ['https://cdn.plot.ly/plotly-latest.min']},});if(!window.Plotly) {{require(['plotly'],function(plotly) {window.Plotly=plotly;});}}</script>"
      ]
     },
     "metadata": {},
     "output_type": "display_data"
    }
   ],
   "source": [
    "import tqdm\n",
    "import numpy as np\n",
    "import scipy.stats\n",
    "import pandas as pd\n",
    "import sklearn\n",
    "import sklearn.datasets\n",
    "from sklearn.feature_selection import mutual_info_regression\n",
    "import sklearn.covariance\n",
    "import networkx as nx\n",
    "import matplotlib.pyplot as plt\n",
    "% matplotlib inline\n",
    "import matplotlib\n",
    "matplotlib.rcParams['pdf.fonttype'] = 42\n",
    "import seaborn as sns\n",
    "sns.set_style('ticks')\n",
    "palette = sns.color_palette(\"RdBu_r\", n_colors=25)\n",
    "import plotly\n",
    "plotly.offline.init_notebook_mode(connected=True)\n",
    "\n",
    "import kliep\n",
    "import knn"
   ]
  },
  {
   "cell_type": "code",
   "execution_count": 2,
   "metadata": {
    "collapsed": true
   },
   "outputs": [],
   "source": [
    "pre = [[   1,  0.5,    0],\n",
    "       [ 0.5,    1, -0.5],\n",
    "       [   0, -0.5,    1]]\n",
    "diag = np.sqrt(np.diag(np.linalg.inv(pre)))\n",
    "pre = pre * diag.reshape(-1, 1) * diag.reshape(1, -1)\n",
    "cov = np.linalg.inv(pre)"
   ]
  },
  {
   "cell_type": "code",
   "execution_count": 3,
   "metadata": {
    "collapsed": true
   },
   "outputs": [],
   "source": [
    "ns = [100, 1000, 10000]"
   ]
  },
  {
   "cell_type": "code",
   "execution_count": null,
   "metadata": {},
   "outputs": [
    {
     "name": "stderr",
     "output_type": "stream",
     "text": [
      "100%|██████████| 3/3 [1:17:57<00:00, 1399.75s/it]\n"
     ]
    }
   ],
   "source": [
    "tmi = knn.cmi_gaussian(cov)[0][1]\n",
    "methods = ['knn_4h', 'knn10']\n",
    "errors1 = {method: {n: [] for n in ns} for method in methods}\n",
    "\n",
    "for n in tqdm.tqdm(ns):\n",
    "    for _ in range(100):\n",
    "        X = scipy.stats.multivariate_normal(mean=[0, 0, 0], cov=cov).rvs(n)\n",
    "        x = X[:, [1]]\n",
    "        y = X[:, [0]]\n",
    "        z = X[:, (np.arange(3) != 0) & (np.arange(3) != 1)]\n",
    "        errors1['knn_4h'][n] += [abs(knn.cmi_4h(x, y, z, k=10) - tmi)]\n",
    "        errors1['knn10'][n] += [abs(knn.cmi_knn(x, y, z, k=10) - tmi)]"
   ]
  },
  {
   "cell_type": "code",
   "execution_count": null,
   "metadata": {},
   "outputs": [
    {
     "name": "stderr",
     "output_type": "stream",
     "text": [
      "100%|██████████| 3/3 [1:18:20<00:00, 1406.78s/it]\n"
     ]
    }
   ],
   "source": [
    "tmi = knn.cmi_gaussian(cov)[0][2]\n",
    "methods = ['knn_4h', 'knn10']\n",
    "errors2 = {method: {n: [] for n in ns} for method in methods}\n",
    "\n",
    "for n in tqdm.tqdm(ns):\n",
    "    for _ in range(100):\n",
    "        X = scipy.stats.multivariate_normal(mean=[0, 0, 0], cov=cov).rvs(n)\n",
    "        x = X[:, [2]]\n",
    "        y = X[:, [0]]\n",
    "        z = X[:, (np.arange(3) != 0) & (np.arange(3) != 2)]\n",
    "        errors2['knn_4h'][n] += [abs(knn.cmi_4h(x, y, z, k=10) - tmi)]\n",
    "        errors2['knn10'][n] += [abs(knn.cmi_knn(x, y, z, k=10) - tmi)]"
   ]
  },
  {
   "cell_type": "code",
   "execution_count": null,
   "metadata": {},
   "outputs": [
    {
     "name": "stderr",
     "output_type": "stream",
     "text": [
      "100%|██████████| 3/3 [1:13:11<00:00, 1314.48s/it]\n"
     ]
    }
   ],
   "source": [
    "methods = ['knn_4h', 'knn10']\n",
    "errors3 = {method: {n: [] for n in ns} for method in methods}\n",
    "\n",
    "for n in tqdm.tqdm(ns):\n",
    "    for _ in range(100):\n",
    "        cluster = np.arange(n)\n",
    "        n1 = int(n / 3)\n",
    "        n2 = 2 * int(n / 3) - n1\n",
    "        cluster[cluster < n1] = 0\n",
    "        cluster[(cluster >= n1) & (cluster < n2 + n1)] = 1\n",
    "        cluster[cluster >= n2 + n1] = 2\n",
    "        X1 = scipy.stats.multivariate_normal(mean=[-8, 0], cov=np.eye(2)).rvs(n1)\n",
    "        X2 = scipy.stats.multivariate_normal(mean=[+8, 0], cov=np.eye(2)).rvs(n2)\n",
    "        X3 = scipy.stats.multivariate_normal(mean=[ 0, 10], cov=np.eye(2)).rvs(n - n1 - n2)\n",
    "        X = np.vstack([X1, X2, X3])\n",
    "        X = np.hstack([X, cluster.reshape(-1, 1)])\n",
    "        x = X[:, [1]]\n",
    "        y = X[:, [2]]\n",
    "        z = X[:, (np.arange(3) != 1) & (np.arange(3) != 2)]\n",
    "        errors3['knn_4h'][n] += [abs(knn.cmi_4h(x, y, z + np.random.normal(0, 0.3), k=10))]\n",
    "        errors3['knn10'][n] += [abs(knn.cmi_knn(x, y, z, k=10))]"
   ]
  },
  {
   "cell_type": "code",
   "execution_count": 16,
   "metadata": {},
   "outputs": [
    {
     "data": {
      "image/png": "[encoded data removed]",
      "text/plain": [
       "<matplotlib.figure.Figure at 0x7f0ab77341d0>"
      ]
     },
     "metadata": {},
     "output_type": "display_data"
    }
   ],
   "source": [
    "# plt.hlines(0, -1, 9, color='red')\n",
    "plt.boxplot(list(errors3['knn_4h'].values()), positions=np.arange(3)-0.1, widths=0.2, showfliers=False)\n",
    "plt.boxplot(list(errors3['knn10'].values()), positions=np.arange(3)+0.1, widths=0.2, showfliers=False)\n",
    "plt.xticks(np.arange(3), ns)\n",
    "plt.xlabel('$N$', fontsize=15)\n",
    "plt.ylabel('Mean absolute error', fontsize=15)\n",
    "plt.tight_layout()\n",
    "plt.savefig('output/box-gaussian-3.pdf', format='pdf')"
   ]
  },
  {
   "cell_type": "code",
   "execution_count": 22,
   "metadata": {},
   "outputs": [
    {
     "data": {
      "image/png": "[encoded data removed]",
      "text/plain": [
       "<matplotlib.figure.Figure at 0x7f0abc125588>"
      ]
     },
     "metadata": {},
     "output_type": "display_data"
    }
   ],
   "source": [
    "plt.boxplot(list(errors1['knn_4h'].values()), positions=np.arange(3)-0.1, widths=0.2, showfliers=False)\n",
    "plt.boxplot(list(errors1['knn10'].values()), positions=np.arange(3)+0.1, widths=0.2, showfliers=False)\n",
    "plt.xticks(np.arange(3), ns)\n",
    "plt.xlabel('$N$', fontsize=15)\n",
    "plt.ylabel('Mean absolute error', fontsize=15)\n",
    "plt.tight_layout()\n",
    "# plt.hlines(0, -1, 9, color='red')\n",
    "plt.savefig('output/box-gaussian-1.pdf', format='pdf')"
   ]
  },
  {
   "cell_type": "code",
   "execution_count": 23,
   "metadata": {},
   "outputs": [
    {
     "data": {
      "image/png": "[encoded data removed]",
      "text/plain": [
       "<matplotlib.figure.Figure at 0x7f0ab7675dd8>"
      ]
     },
     "metadata": {},
     "output_type": "display_data"
    }
   ],
   "source": [
    "plt.boxplot(list(errors2['knn_4h'].values()), positions=np.arange(3)-0.1, widths=0.2, showfliers=False)\n",
    "plt.boxplot(list(errors2['knn10'].values()), positions=np.arange(3)+0.1, widths=0.2, showfliers=False)\n",
    "plt.xticks(np.arange(3), ns)\n",
    "plt.xlabel('$N$', fontsize=15)\n",
    "plt.ylabel('Mean absolute error', fontsize=15)\n",
    "plt.tight_layout()\n",
    "# plt.hlines(0, -1, 9, color='red')\n",
    "plt.savefig('output/box-gaussian-2.pdf', format='pdf')"
   ]
  },
  {
   "cell_type": "code",
   "execution_count": null,
   "metadata": {
    "collapsed": true
   },
   "outputs": [],
   "source": [
    "# plt.boxplot(list(errors['knn_4h'].values()), positions=np.arange(9)-0.1, widths=0.2, showfliers=False)\n",
    "plt.boxplot(list(errors3['knn10'].values()), positions=np.arange(3), widths=0.2, showfliers=False)\n",
    "plt.xticks(np.arange(3), ns)\n",
    "plt.hlines(0, -1, 9, color='red')\n",
    "plt.tight_layout()\n",
    "plt.savefig('output/box-gaussian-3.pdf', format='pdf')"
   ]
  },
  {
   "cell_type": "code",
   "execution_count": null,
   "metadata": {
    "collapsed": true
   },
   "outputs": [],
   "source": []
  }
 ],
 "metadata": {
  "kernelspec": {
   "display_name": "py36",
   "language": "python",
   "name": "py36"
  },
  "language_info": {
   "codemirror_mode": {
    "name": "ipython",
    "version": 3
   },
   "file_extension": ".py",
   "mimetype": "text/x-python",
   "name": "python",
   "nbconvert_exporter": "python",
   "pygments_lexer": "ipython3",
   "version": "3.6.3"
  }
 },
 "nbformat": 4,
 "nbformat_minor": 2
}
