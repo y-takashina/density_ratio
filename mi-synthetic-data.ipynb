{
 "cells": [
  {
   "cell_type": "code",
   "execution_count": 1,
   "metadata": {},
   "outputs": [
    {
     "data": {
      "text/html": [
       "<script>requirejs.config({paths: { 'plotly': ['https://cdn.plot.ly/plotly-latest.min']},});if(!window.Plotly) {{require(['plotly'],function(plotly) {window.Plotly=plotly;});}}</script>"
      ],
      "text/vnd.plotly.v1+html": [
       "<script>requirejs.config({paths: { 'plotly': ['https://cdn.plot.ly/plotly-latest.min']},});if(!window.Plotly) {{require(['plotly'],function(plotly) {window.Plotly=plotly;});}}</script>"
      ]
     },
     "metadata": {},
     "output_type": "display_data"
    }
   ],
   "source": [
    "import tqdm\n",
    "import numpy as np\n",
    "import scipy.stats\n",
    "import pandas as pd\n",
    "import sklearn\n",
    "import sklearn.covariance\n",
    "import networkx as nx\n",
    "import matplotlib.pyplot as plt\n",
    "% matplotlib inline\n",
    "import matplotlib\n",
    "matplotlib.rcParams['pdf.fonttype'] = 42\n",
    "import seaborn as sns\n",
    "sns.set_style('ticks')\n",
    "palette = sns.color_palette(\"RdBu_r\", n_colors=25)\n",
    "import plotly\n",
    "plotly.offline.init_notebook_mode(connected=True)\n",
    "\n",
    "import kliep"
   ]
  },
  {
   "cell_type": "markdown",
   "metadata": {},
   "source": [
    "## Multivariate Gaussian 1"
   ]
  },
  {
   "cell_type": "code",
   "execution_count": null,
   "metadata": {
    "collapsed": true
   },
   "outputs": [],
   "source": [
    "tmis = [-0.5 * np.log(1 - c**2) for c in np.arange(0, 1, 0.1)]"
   ]
  },
  {
   "cell_type": "code",
   "execution_count": null,
   "metadata": {
    "collapsed": true
   },
   "outputs": [],
   "source": [
    "mis = []\n",
    "for c in tqdm.tqdm(np.arange(0, 1, 0.1)):\n",
    "    cov = np.array([[1, c], [c, 1]])\n",
    "    XY = scipy.stats.multivariate_normal(mean=[0, 0], cov=cov).rvs(1000)\n",
    "    X, Y = np.split(XY, [1], axis=1)\n",
    "    mis += [kliep.mutual_information(X, Y, sigma=0.5)]"
   ]
  },
  {
   "cell_type": "code",
   "execution_count": null,
   "metadata": {
    "collapsed": true
   },
   "outputs": [],
   "source": [
    "plt.plot(np.arange(0, 1, 0.1), tmis, label='theoretical')\n",
    "plt.plot(np.arange(0, 1, 0.1), mis, label='approx.')\n",
    "plt.legend()"
   ]
  },
  {
   "cell_type": "markdown",
   "metadata": {},
   "source": [
    "## Multivariate Gaussian 2"
   ]
  },
  {
   "cell_type": "code",
   "execution_count": null,
   "metadata": {
    "collapsed": true
   },
   "outputs": [],
   "source": [
    "pre = [[1,   0.8,    0],\n",
    "       [0.8,   1, -0.4],\n",
    "       [0,  -0.4,    1]]\n",
    "cov = np.linalg.inv(pre)\n",
    "diag = np.sqrt(np.diag(cov))\n",
    "cov = cov / diag.reshape(-1, 1) / diag.reshape(1, -1)\n",
    "X = scipy.stats.multivariate_normal(mean=[0, 0, 0], cov=cov).rvs(3000)"
   ]
  },
  {
   "cell_type": "code",
   "execution_count": null,
   "metadata": {
    "collapsed": true
   },
   "outputs": [],
   "source": [
    "sns.pairplot(pd.DataFrame(X).sample(300))\n",
    "plt.tight_layout()\n",
    "plt.savefig('output/pair-gaussian.pdf', format='pdf')"
   ]
  },
  {
   "cell_type": "code",
   "execution_count": null,
   "metadata": {
    "collapsed": true
   },
   "outputs": [],
   "source": [
    "H = np.linalg.slogdet(cov)[1] / 2\n",
    "H1 = [np.linalg.slogdet(np.delete(np.delete(cov, [i], axis=0), [i], axis=1))[1] / 2 for i in range(3)]\n",
    "H2 = [[np.linalg.slogdet(np.delete(np.delete(cov, [i, j], axis=0), [i, j], axis=1))[1] / 2 for i in range(3)] for j in range(3)]\n",
    "tmi = np.array([[H1[i] + H1[j] - (H + H2[i][j]) for i in range(3)] for j in range(3)])\n",
    "tmi[np.eye(3, dtype=bool)] = None\n",
    "plt.figure(figsize=[5, 5])\n",
    "sns.heatmap(tmi, annot=True, center=0, cmap=palette, cbar=False)"
   ]
  },
  {
   "cell_type": "code",
   "execution_count": null,
   "metadata": {
    "collapsed": true
   },
   "outputs": [],
   "source": [
    "# pre = sklearn.covariance.GraphLasso(alpha=0.02).fit(X).precision_\n",
    "mi = kliep.calc_mi_matrix(X)\n",
    "cmi = kliep.calc_cmi_matrix(X)\n",
    "cmi2 = kliep.calc_cmi_matrix2(X)"
   ]
  },
  {
   "cell_type": "code",
   "execution_count": null,
   "metadata": {
    "collapsed": true
   },
   "outputs": [],
   "source": [
    "f, axes = plt.subplots(1, 3, figsize=[11.5, 4])\n",
    "axes[0].set_title('Graphical Lasso', fontsize=15)\n",
    "axes[1].set_title('Mutual Information', fontsize=15)\n",
    "axes[2].set_title('Conditional Mutual Information', fontsize=15)\n",
    "# sns.heatmap(pre, annot=True, ax=axes[0], center=0, cmap=palette, cbar=False)\n",
    "sns.heatmap(mi, annot=True, ax=axes[1], center=0, cmap=palette, cbar=False)\n",
    "sns.heatmap(cmi, annot=True, ax=axes[2], center=0, cmap=palette, cbar=False)\n",
    "sns.heatmap(cmi2, annot=True, ax=axes[0], center=0, cmap=palette, cbar=False)\n",
    "plt.tight_layout()\n",
    "plt.savefig('output/heat-gaussian.pdf', format='pdf')"
   ]
  },
  {
   "cell_type": "markdown",
   "metadata": {},
   "source": [
    "## Multivariate Gaussian Mixuture"
   ]
  },
  {
   "cell_type": "code",
   "execution_count": null,
   "metadata": {
    "collapsed": true
   },
   "outputs": [],
   "source": [
    "X1 = scipy.stats.multivariate_normal(mean=[-4,  0,  0], cov=np.eye(3)).rvs(500)\n",
    "X2 = scipy.stats.multivariate_normal(mean=[+4,  0,  0], cov=[[1, 0, 0], [0, 6, 0], [0, 0, 1]]).rvs(500)\n",
    "X = np.vstack([X1, X2])\n",
    "X = (X - np.mean(X, axis=0)) / np.std(X, axis=0)\n",
    "X.shape"
   ]
  },
  {
   "cell_type": "code",
   "execution_count": null,
   "metadata": {
    "collapsed": true
   },
   "outputs": [],
   "source": [
    "sns.pairplot(pd.DataFrame(X).sample(300))\n",
    "plt.tight_layout()\n",
    "plt.savefig('output/pair-gaussian-mixture.pdf', format='pdf')"
   ]
  },
  {
   "cell_type": "code",
   "execution_count": null,
   "metadata": {
    "collapsed": true
   },
   "outputs": [],
   "source": [
    "pre = sklearn.covariance.GraphLasso(alpha=0.02).fit(X).precision_\n",
    "mi = kliep.calc_mi_matrix(X)\n",
    "cmi = kliep.calc_cmi_matrix(X)\n",
    "cmi2 = kliep.calc_cmi_matrix2(X)"
   ]
  },
  {
   "cell_type": "code",
   "execution_count": null,
   "metadata": {
    "collapsed": true
   },
   "outputs": [],
   "source": [
    "f, axes = plt.subplots(1, 3, figsize=[11.5, 4])\n",
    "axes[0].set_title('Graphical Lasso', fontsize=15)\n",
    "axes[1].set_title('Mutual Information', fontsize=15)\n",
    "axes[2].set_title('Conditional Mutual Information', fontsize=15)\n",
    "sns.heatmap(pre, annot=True, ax=axes[0], center=0, cmap=palette, cbar=False)\n",
    "sns.heatmap(mi, annot=True, ax=axes[1], center=0, cmap=palette, cbar=False)\n",
    "sns.heatmap(cmi, annot=True, ax=axes[2], center=0, cmap=palette, cbar=False)\n",
    "# sns.heatmap(cmi2, annot=True, ax=axes[0], center=0, cmap=palette, cbar=False)\n",
    "plt.tight_layout()\n",
    "plt.savefig('output/heat-gaussian-mixture.pdf', format='pdf')"
   ]
  },
  {
   "cell_type": "markdown",
   "metadata": {},
   "source": [
    "## Stochastic volatility model"
   ]
  },
  {
   "cell_type": "markdown",
   "metadata": {},
   "source": [
    "$$\n",
    "Z_{t+1} = \\mu + \\phi(Z_t - \\mu) + \\epsilon_t,\\quad \\epsilon_t \\sim \\mathcal{N}(0, 1)\n",
    "$$\n",
    "$$\n",
    "Z_0\\mid \\mu,\\phi \\sim \\mathcal{N}\\left(\\mu, \\frac{1}{1-\\phi^2}\\right),\\quad \\mu\\sim \\mathcal{N}(0, 1)\n",
    "$$\n",
    "$$\n",
    "\\phi = \\frac{2e^{\\phi^*}}{1 + e^{\\phi^*}} - 1, \\quad \\phi^* \\sim \\mathcal{N}(3, 1).\n",
    "$$"
   ]
  },
  {
   "cell_type": "code",
   "execution_count": 2,
   "metadata": {},
   "outputs": [
    {
     "name": "stderr",
     "output_type": "stream",
     "text": [
      "100%|██████████| 15000/15000 [01:17<00:00, 194.57it/s]\n"
     ]
    }
   ],
   "source": [
    "X = []\n",
    "for n in tqdm.tqdm(range(15000)):\n",
    "    phi_star = scipy.stats.norm(3, 1).rvs()\n",
    "    phi = 2 * np.exp(phi_star) / (1 + np.exp(phi_star)) - 1\n",
    "    mu = scipy.stats.norm(0, 1).rvs()\n",
    "    z = [scipy.stats.norm(mu, 1 / (1 - phi**2)).rvs()]\n",
    "    for i in range(6):\n",
    "        z += [mu + phi * (z[i] - mu) + scipy.stats.norm(0, 1).rvs()]\n",
    "    X += [[mu, phi] + z[1:]]\n",
    "    \n",
    "X = np.array(X)\n",
    "X = (X - np.mean(X, axis=0)) / np.std(X, axis=0)"
   ]
  },
  {
   "cell_type": "code",
   "execution_count": null,
   "metadata": {
    "collapsed": true
   },
   "outputs": [],
   "source": [
    "pre = sklearn.covariance.GraphLasso(alpha=0.15, assume_centered=True).fit(X).precision_"
   ]
  },
  {
   "cell_type": "code",
   "execution_count": 7,
   "metadata": {},
   "outputs": [
    {
     "name": "stderr",
     "output_type": "stream",
     "text": [
      "100%|██████████| 28/28 [03:19<00:00,  7.33s/it]\n"
     ]
    }
   ],
   "source": [
    "mi = kliep.calc_mi_matrix(X)"
   ]
  },
  {
   "cell_type": "code",
   "execution_count": 10,
   "metadata": {},
   "outputs": [
    {
     "name": "stderr",
     "output_type": "stream",
     "text": [
      " 39%|███▉      | 11/28 [05:20<08:45, 30.94s/it]/home/ytakashina/workspace/density_ratio/kliep.py:46: RuntimeWarning:\n",
      "\n",
      "divide by zero encountered in log\n",
      "\n",
      "Optimization failed: Iteration limit exceeded\n",
      "100%|██████████| 28/28 [14:16<00:00, 28.86s/it]\n",
      "/home/ytakashina/workspace/density_ratio/kliep.py:100: RuntimeWarning:\n",
      "\n",
      "invalid value encountered in less\n",
      "\n"
     ]
    }
   ],
   "source": [
    "cmi2 = kliep.calc_cmi_matrix2(X, sigma=0.7, maxiter=5000)"
   ]
  },
  {
   "cell_type": "code",
   "execution_count": 12,
   "metadata": {},
   "outputs": [
    {
     "name": "stderr",
     "output_type": "stream",
     "text": [
      "100%|██████████| 28/28 [24:53<00:00, 70.23s/it]\n"
     ]
    }
   ],
   "source": [
    "cmi = kliep.calc_cmi_matrix(X, maxiter=5000)"
   ]
  },
  {
   "cell_type": "code",
   "execution_count": 13,
   "metadata": {},
   "outputs": [
    {
     "data": {
      "image/png": "[encoded data removed]",
      "text/plain": [
       "<matplotlib.figure.Figure at 0x7f51644e8400>"
      ]
     },
     "metadata": {},
     "output_type": "display_data"
    }
   ],
   "source": [
    "f, axes = plt.subplots(1, 3, figsize=[11.5, 4])\n",
    "axes[0].set_title('Graphical Lasso', fontsize=15)\n",
    "axes[1].set_title('Mutual Information', fontsize=15)\n",
    "axes[2].set_title('Conditional Mutual Information', fontsize=15)\n",
    "# sns.heatmap(pre, annot=True, ax=axes[0], center=0, cmap=palette, cbar=False)\n",
    "sns.heatmap(mi, annot=True, ax=axes[1], center=0, cmap=palette, cbar=False)\n",
    "sns.heatmap(cmi2, annot=True, ax=axes[2], center=0, cmap=palette, cbar=False)\n",
    "plt.tight_layout()"
   ]
  },
  {
   "cell_type": "code",
   "execution_count": null,
   "metadata": {
    "collapsed": true
   },
   "outputs": [],
   "source": []
  }
 ],
 "metadata": {
  "kernelspec": {
   "display_name": "py36",
   "language": "python",
   "name": "py36"
  },
  "language_info": {
   "codemirror_mode": {
    "name": "ipython",
    "version": 3
   },
   "file_extension": ".py",
   "mimetype": "text/x-python",
   "name": "python",
   "nbconvert_exporter": "python",
   "pygments_lexer": "ipython3",
   "version": "3.6.3"
  }
 },
 "nbformat": 4,
 "nbformat_minor": 1
}
