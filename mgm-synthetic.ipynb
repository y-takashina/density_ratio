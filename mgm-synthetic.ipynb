{
 "cells": [
  {
   "cell_type": "code",
   "execution_count": 1,
   "metadata": {},
   "outputs": [
    {
     "name": "stderr",
     "output_type": "stream",
     "text": [
      "/home/ytakashina/anaconda3/envs/py36/lib/python3.6/importlib/_bootstrap.py:219: RuntimeWarning: compiletime version 3.5 of module 'tensorflow.python.framework.fast_tensor_util' does not match runtime version 3.6\n",
      "  return f(*args, **kwds)\n"
     ]
    },
    {
     "data": {
      "text/html": [
       "<script>requirejs.config({paths: { 'plotly': ['https://cdn.plot.ly/plotly-latest.min']},});if(!window.Plotly) {{require(['plotly'],function(plotly) {window.Plotly=plotly;});}}</script>"
      ],
      "text/vnd.plotly.v1+html": [
       "<script>requirejs.config({paths: { 'plotly': ['https://cdn.plot.ly/plotly-latest.min']},});if(!window.Plotly) {{require(['plotly'],function(plotly) {window.Plotly=plotly;});}}</script>"
      ]
     },
     "metadata": {},
     "output_type": "display_data"
    }
   ],
   "source": [
    "import tqdm\n",
    "import pickle\n",
    "import numpy as np\n",
    "import tensorflow as tf\n",
    "import scipy\n",
    "import sklearn\n",
    "import sklearn.datasets\n",
    "import sklearn.covariance\n",
    "import sklearn.preprocessing\n",
    "import pandas as pd\n",
    "import plotly\n",
    "import seaborn as sns\n",
    "import networkx as nx\n",
    "import matplotlib\n",
    "import matplotlib.pyplot as plt\n",
    "sns.set_style('ticks')\n",
    "# seaborn.set(style='ticks', font='TakaoGothic')\n",
    "matplotlib.rcParams['pdf.fonttype'] = 42\n",
    "plotly.offline.init_notebook_mode(connected=True)\n",
    "palette = sns.color_palette(\"RdBu_r\", n_colors=25)\n",
    "% matplotlib inline\n",
    "\n",
    "import knn"
   ]
  },
  {
   "cell_type": "code",
   "execution_count": 2,
   "metadata": {},
   "outputs": [
    {
     "data": {
      "text/plain": [
       "(4000, 2)"
      ]
     },
     "execution_count": 2,
     "metadata": {},
     "output_type": "execute_result"
    }
   ],
   "source": [
    "target = (np.arange(4000) < 3000).astype(int)\n",
    "X1 = scipy.stats.multivariate_normal(mean=[+8, 0], cov=np.eye(2)).rvs(1000)\n",
    "X2 = scipy.stats.multivariate_normal(mean=[-8, 0], cov=np.eye(2)).rvs(1000)\n",
    "X3 = scipy.stats.multivariate_normal(mean=[0, +8], cov=np.eye(2)).rvs(1000)\n",
    "X4 = scipy.stats.multivariate_normal(mean=[0, -8], cov=np.eye(2)).rvs(1000)\n",
    "features = sklearn.preprocessing.scale(np.vstack([X1, X2, X3, X4]))\n",
    "features.shape"
   ]
  },
  {
   "cell_type": "code",
   "execution_count": 3,
   "metadata": {
    "collapsed": true
   },
   "outputs": [],
   "source": [
    "d_c = 2\n",
    "k = 2\n",
    "n = 4000\n",
    "lamb = 0.0\n",
    "np.random.seed(1)"
   ]
  },
  {
   "cell_type": "code",
   "execution_count": 4,
   "metadata": {
    "collapsed": true
   },
   "outputs": [],
   "source": [
    "alpha = tf.Variable(np.zeros(d_c), dtype=tf.float32)\n",
    "beta_ = tf.Variable(np.random.gamma(1, size=[d_c, d_c]), dtype=tf.float32)\n",
    "beta_triu = tf.matrix_band_part(beta_, 0, -1)\n",
    "beta_diag = tf.matrix_band_part(beta_, 0, 0)\n",
    "beta = beta_triu + tf.transpose(beta_triu) - beta_diag\n",
    "rho = tf.Variable(np.random.normal(size=[d_c, k]), dtype=tf.float32)\n",
    "phi = tf.Variable(np.random.normal(size=[k]), dtype=tf.float32)"
   ]
  },
  {
   "cell_type": "code",
   "execution_count": 5,
   "metadata": {
    "collapsed": true
   },
   "outputs": [],
   "source": [
    "x = tf.placeholder(tf.float32, [n, d_c])\n",
    "y = tf.placeholder(tf.int32, [n])"
   ]
  },
  {
   "cell_type": "code",
   "execution_count": 6,
   "metadata": {
    "collapsed": true
   },
   "outputs": [],
   "source": [
    "beta_diag = tf.diag_part(beta)                    # [d_c]\n",
    "rho_y = tf.gather(rho, y, axis=1)                 # [d_c, n]\n",
    "beta_x = tf.matmul(beta, tf.transpose(x))         # [d_c, n]\n",
    "dev = tf.reshape(alpha, [-1, 1]) + rho_y - beta_x # [d_c, n]\n",
    "loss = -0.5 * n * tf.reduce_sum(tf.log(beta_diag))\n",
    "loss += tf.reduce_sum(dev * dev / tf.reshape(beta_diag, [-1, 1]) / 2)"
   ]
  },
  {
   "cell_type": "code",
   "execution_count": 7,
   "metadata": {
    "collapsed": true
   },
   "outputs": [],
   "source": [
    "rho_x = tf.matmul(x, rho)                 # [n, k]\n",
    "logits = rho_x + tf.reshape(phi, [1, -1]) # [n, k]\n",
    "p_k = tf.nn.softmax(logits)               # [n, k]\n",
    "y_onehot = tf.one_hot(y, k)               # [n, k]\n",
    "loss += -tf.reduce_sum(tf.log(tf.reduce_sum(p_k * y_onehot, axis=1)))"
   ]
  },
  {
   "cell_type": "code",
   "execution_count": 8,
   "metadata": {},
   "outputs": [
    {
     "name": "stdout",
     "output_type": "stream",
     "text": [
      "INFO:tensorflow:Scale of 0 disables regularizer.\n"
     ]
    }
   ],
   "source": [
    "regularizer = tf.contrib.layers.l1_regularizer(scale=lamb)\n",
    "weights_list = [beta_triu - beta_diag, np.sqrt(2/3) * tf.norm(rho, axis=1)]\n",
    "loss += tf.contrib.layers.apply_regularization(regularizer, weights_list)"
   ]
  },
  {
   "cell_type": "code",
   "execution_count": 9,
   "metadata": {
    "collapsed": true
   },
   "outputs": [],
   "source": [
    "optimizer = tf.train.GradientDescentOptimizer(0.0001).minimize(loss)"
   ]
  },
  {
   "cell_type": "code",
   "execution_count": 10,
   "metadata": {
    "collapsed": true
   },
   "outputs": [],
   "source": [
    "sess = tf.Session()\n",
    "sess.run(tf.global_variables_initializer())"
   ]
  },
  {
   "cell_type": "code",
   "execution_count": 11,
   "metadata": {},
   "outputs": [
    {
     "name": "stdout",
     "output_type": "stream",
     "text": [
      "Epoch: 1000 loss= 2017.703735352\n",
      "Epoch: 2000 loss= 2017.704589844\n",
      "Epoch: 3000 loss= 2017.704589844\n",
      "Epoch: 4000 loss= 2017.704589844\n",
      "Epoch: 5000 loss= 2017.704589844\n",
      "Epoch: 6000 loss= 2017.704589844\n",
      "Epoch: 7000 loss= 2017.704589844\n",
      "Epoch: 8000 loss= 2017.704589844\n",
      "Epoch: 9000 loss= 2017.704589844\n",
      "Epoch: 10000 loss= 2017.704589844\n"
     ]
    }
   ],
   "source": [
    "display_epoch = 1000\n",
    "training_epochs = 10000\n",
    "for epoch in range(training_epochs):\n",
    "    _, l = sess.run([optimizer, loss], {x: features, y: target})\n",
    "\n",
    "    if (epoch+1) % display_epoch == 0:\n",
    "        print(\"Epoch:\", '%04d' % (epoch+1), \"loss=\", \"{:.9f}\".format(l))\n",
    "\n",
    "    if np.isnan(l):\n",
    "        print('loss becomes nan at epoch %d' % epoch)\n",
    "        break"
   ]
  },
  {
   "cell_type": "code",
   "execution_count": 12,
   "metadata": {},
   "outputs": [
    {
     "data": {
      "text/plain": [
       "<matplotlib.axes._subplots.AxesSubplot at 0x7fb1b0091c88>"
      ]
     },
     "execution_count": 12,
     "metadata": {},
     "output_type": "execute_result"
    },
    {
     "data": {
      "image/png": "[encoded data removed]",
      "text/plain": [
       "<matplotlib.figure.Figure at 0x7fb1b00a8d30>"
      ]
     },
     "metadata": {},
     "output_type": "display_data"
    }
   ],
   "source": [
    "pre_estimate = sess.run(beta)\n",
    "rho_estimate = sess.run(rho)\n",
    "adj_cc = pre_estimate\n",
    "adj_dc = np.linalg.norm(rho_estimate, axis=1)\n",
    "adj_u = np.hstack((adj_cc, adj_dc.reshape(-1, 1)))\n",
    "adj_l = np.append(adj_dc, np.nan)\n",
    "adj = np.vstack((adj_u, adj_l))\n",
    "adj[np.eye(3, dtype=bool)] = np.nan\n",
    "plt.figure(figsize=[4, 4])\n",
    "sns.heatmap(adj, cmap=palette, cbar=False, annot=True, center=0)"
   ]
  },
  {
   "cell_type": "code",
   "execution_count": 13,
   "metadata": {
    "collapsed": true
   },
   "outputs": [],
   "source": [
    "df = pd.DataFrame(features)\n",
    "df['class'] = target"
   ]
  },
  {
   "cell_type": "code",
   "execution_count": 14,
   "metadata": {
    "collapsed": true
   },
   "outputs": [],
   "source": [
    "n, d = df.values.shape\n",
    "edges = knn.learn_mrf(df.values)\n",
    "g = nx.Graph()\n",
    "g.add_nodes_from(range(d))\n",
    "g.add_edges_from(edges)\n",
    "adj2 = nx.adjacency_matrix(g).toarray().astype(float)\n",
    "adj2[np.eye(d, dtype=bool)] = np.nan"
   ]
  },
  {
   "cell_type": "code",
   "execution_count": 15,
   "metadata": {
    "collapsed": true
   },
   "outputs": [],
   "source": [
    "ground_truth = [[np.nan, 1, 0], [1, np.nan, 1], [0, 1, np.nan]]"
   ]
  },
  {
   "cell_type": "code",
   "execution_count": 16,
   "metadata": {},
   "outputs": [
    {
     "data": {
      "image/png": "[encoded data removed]",
      "text/plain": [
       "<matplotlib.figure.Figure at 0x7fb19c742470>"
      ]
     },
     "metadata": {},
     "output_type": "display_data"
    }
   ],
   "source": [
    "f, axes = plt.subplots(1, 3, figsize=[10, 4])\n",
    "axes[0].set_title('Ground truth', fontsize=15)\n",
    "axes[1].set_title('MGM ($\\lambda = 0$)', fontsize=15)\n",
    "axes[2].set_title('Proposed ($\\lambda = 0$)', fontsize=15)\n",
    "labels = ['$X_1$', '$X_2$', '$X_3$']\n",
    "sns.heatmap(ground_truth, annot=True, center=0, ax=axes[0], cmap=palette, cbar=False, xticklabels=labels, yticklabels=labels)\n",
    "sns.heatmap(adj, annot=True, center=0, ax=axes[1], cmap=palette, cbar=False, xticklabels=labels, yticklabels=[])\n",
    "sns.heatmap(adj2, annot=True, center=0, ax=axes[2], cmap=palette, cbar=False, xticklabels=labels, yticklabels=[])\n",
    "plt.tight_layout()\n",
    "plt.savefig('output/heat-gmm.pdf', format='pdf')"
   ]
  },
  {
   "cell_type": "code",
   "execution_count": null,
   "metadata": {
    "collapsed": true
   },
   "outputs": [],
   "source": []
  }
 ],
 "metadata": {
  "kernelspec": {
   "display_name": "py36",
   "language": "python",
   "name": "py36"
  },
  "language_info": {
   "codemirror_mode": {
    "name": "ipython",
    "version": 3
   },
   "file_extension": ".py",
   "mimetype": "text/x-python",
   "name": "python",
   "nbconvert_exporter": "python",
   "pygments_lexer": "ipython3",
   "version": "3.6.3"
  }
 },
 "nbformat": 4,
 "nbformat_minor": 2
}
