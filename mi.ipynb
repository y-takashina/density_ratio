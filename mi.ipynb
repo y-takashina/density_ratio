{
 "cells": [
  {
   "cell_type": "code",
   "execution_count": 1,
   "metadata": {},
   "outputs": [],
   "source": [
    "import tqdm\n",
    "import mlmi\n",
    "import numpy as np\n",
    "import scipy.stats\n",
    "import matplotlib.pyplot as plt\n",
    "% matplotlib inline\n",
    "import seaborn as sns\n",
    "sns.set_style('ticks')"
   ]
  },
  {
   "cell_type": "code",
   "execution_count": 2,
   "metadata": {},
   "outputs": [
    {
     "name": "stderr",
     "output_type": "stream",
     "text": [
      "100%|██████████| 5/5 [01:23<00:00, 17.08s/it]\n"
     ]
    }
   ],
   "source": [
    "amis = []\n",
    "amis_old = []\n",
    "tmis = []\n",
    "\n",
    "for c in tqdm.tqdm(np.arange(0, 0.5, 0.1)):\n",
    "    cov = np.array([[1, c], [c, 1]])\n",
    "    X = scipy.stats.multivariate_normal(mean=[0, 0], cov=cov).rvs(3000)\n",
    "    amis += [mlmi.mutual_information(X[:, 0].reshape(-1, 1), X[:, 0].reshape(-1, 1), n_b=200, maxiter=1000)]\n",
    "    amis_old += [mlmi.mutual_information_old(X, sigma=1, n_b=200, maxiter=1000)]\n",
    "    tmis += [0.5 * (np.sum(np.log(np.diag(cov))) - np.log(np.linalg.det(cov)))]"
   ]
  },
  {
   "cell_type": "code",
   "execution_count": 3,
   "metadata": {},
   "outputs": [
    {
     "data": {
      "text/plain": [
       "<matplotlib.legend.Legend at 0x7f3e1cf32240>"
      ]
     },
     "execution_count": 3,
     "metadata": {},
     "output_type": "execute_result"
    },
    {
     "data": {
      "image/png": "[encoded data removed]",
      "text/plain": [
       "<matplotlib.figure.Figure at 0x7f3e1e92e240>"
      ]
     },
     "metadata": {},
     "output_type": "display_data"
    }
   ],
   "source": [
    "plt.plot(np.arange(0, 0.5, 0.1), tmis, label='true')\n",
    "plt.plot(np.arange(0, 0.5, 0.1), amis, label='app')\n",
    "plt.plot(np.arange(0, 0.5, 0.1), amis_old, label='app_old')\n",
    "plt.legend()"
   ]
  },
  {
   "cell_type": "code",
   "execution_count": null,
   "metadata": {},
   "outputs": [],
   "source": []
  },
  {
   "cell_type": "code",
   "execution_count": null,
   "metadata": {
    "collapsed": true
   },
   "outputs": [],
   "source": []
  }
 ],
 "metadata": {
  "kernelspec": {
   "display_name": "Python 3",
   "language": "python",
   "name": "python3"
  },
  "language_info": {
   "codemirror_mode": {
    "name": "ipython",
    "version": 3
   },
   "file_extension": ".py",
   "mimetype": "text/x-python",
   "name": "python",
   "nbconvert_exporter": "python",
   "pygments_lexer": "ipython3",
   "version": "3.6.1"
  }
 },
 "nbformat": 4,
 "nbformat_minor": 2
}
