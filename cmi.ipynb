{
 "cells": [
  {
   "cell_type": "code",
   "execution_count": 15,
   "metadata": {
    "collapsed": true
   },
   "outputs": [],
   "source": [
    "import tqdm\n",
    "import mlmi\n",
    "import mlmi3\n",
    "import numpy as np\n",
    "import scipy.stats\n",
    "import pandas as pd\n",
    "import networkx as nx\n",
    "import matplotlib.pyplot as plt\n",
    "% matplotlib inline\n",
    "import seaborn as sns\n",
    "sns.set_style('ticks')"
   ]
  },
  {
   "cell_type": "code",
   "execution_count": 2,
   "metadata": {},
   "outputs": [
    {
     "name": "stdout",
     "output_type": "stream",
     "text": [
      "[[ 1.   0.5  0. ]\n",
      " [ 0.5  1.   0. ]\n",
      " [ 0.   0.   1. ]]\n"
     ]
    }
   ],
   "source": [
    "cov = [[1,   0.5,   0],\n",
    "       [0.5,   1,   0],\n",
    "       [0,     0,   1]]\n",
    "print(np.array(cov))\n",
    "X = scipy.stats.multivariate_normal(mean=[0, 0, 0], cov=cov).rvs(3000)"
   ]
  },
  {
   "cell_type": "code",
   "execution_count": 3,
   "metadata": {},
   "outputs": [
    {
     "name": "stdout",
     "output_type": "stream",
     "text": [
      "(0, 1): 0.147875\n",
      "(0, 2): 0.003164\n",
      "(1, 2): 0.002453\n"
     ]
    }
   ],
   "source": [
    "ami = np.zeros([3, 3])\n",
    "for i, j in [(0, 1), (0, 2), (1, 2)]:\n",
    "    ami[j, i] = ami[i, j] = mlmi.mutual_information(X[:, i].reshape(-1, 1), X[:, j].reshape(-1, 1), n_b=200)\n",
    "    print('(%d, %d): %f' % (i, j, ami[i, j]))"
   ]
  },
  {
   "cell_type": "code",
   "execution_count": 4,
   "metadata": {
    "scrolled": false
   },
   "outputs": [
    {
     "name": "stdout",
     "output_type": "stream",
     "text": [
      "(0, 1, 2): 0.148342\n"
     ]
    }
   ],
   "source": [
    "ami3 = mlmi3.mutual_information(X[:, 0].reshape(-1, 1), X[:, 1].reshape(-1, 1), X[:, 2:], n_b=200, maxiter=1000)\n",
    "print('(0, 1, 2): %f' % ami3)"
   ]
  },
  {
   "cell_type": "code",
   "execution_count": 5,
   "metadata": {},
   "outputs": [
    {
     "name": "stdout",
     "output_type": "stream",
     "text": [
      "I(X, Y | Z) = 0.142725\n",
      "I(X, Z | Y) = -0.001986\n",
      "I(Y, Z | X) = -0.002698\n"
     ]
    }
   ],
   "source": [
    "print('I(X, Y | Z) = %f' % (ami3 - ami[0, 2] - ami[1, 2]))\n",
    "print('I(X, Z | Y) = %f' % (ami3 - ami[0, 1] - ami[2, 1]))\n",
    "print('I(Y, Z | X) = %f' % (ami3 - ami[1, 0] - ami[2, 0]))"
   ]
  },
  {
   "cell_type": "code",
   "execution_count": 6,
   "metadata": {},
   "outputs": [
    {
     "name": "stdout",
     "output_type": "stream",
     "text": [
      "[[ 1.   0.5  0.   0. ]\n",
      " [ 0.5  1.   0.4  0. ]\n",
      " [ 0.   0.4  1.  -0.3]\n",
      " [ 0.   0.  -0.3  1. ]]\n"
     ]
    }
   ],
   "source": [
    "pre = [[1,   0.5,    0,    0],\n",
    "       [0.5,   1,  0.4,    0],\n",
    "       [0,   0.4,    1, -0.3],\n",
    "       [0,     0, -0.3,    1]]\n",
    "cov = np.linalg.inv(pre)\n",
    "print(np.array(pre))\n",
    "X = scipy.stats.multivariate_normal(mean=[0, 0, 0, 0], cov=cov).rvs(3000)"
   ]
  },
  {
   "cell_type": "code",
   "execution_count": 8,
   "metadata": {},
   "outputs": [
    {
     "name": "stderr",
     "output_type": "stream",
     "text": [
      "100%|██████████| 6/6 [02:26<00:00, 23.68s/it]\n"
     ]
    },
    {
     "data": {
      "text/plain": [
       "array([[ 0.        ,  0.12415129, -0.01300995, -0.00502973],\n",
       "       [ 0.        ,  0.        ,  0.07700725, -0.01942818],\n",
       "       [ 0.        ,  0.        ,  0.        ,  0.04010155],\n",
       "       [ 0.        ,  0.        ,  0.        ,  0.        ]])"
      ]
     },
     "execution_count": 8,
     "metadata": {},
     "output_type": "execute_result"
    }
   ],
   "source": [
    "mi = np.zeros([4, 4])\n",
    "cmi = np.zeros([4, 4])\n",
    "for i, j in tqdm.tqdm([(0, 1), (0, 2), (0, 3), (1, 2), (1, 3), (2, 3)]):\n",
    "    mi[i, j] = mlmi.mutual_information(X[:, i].reshape(-1, 1), X[:, j].reshape(-1, 1), n_b=200, maxiter=1000)\n",
    "    mask = (np.arange(4) != i) & (np.arange(4) != j)\n",
    "    mi_xz = mlmi.mutual_information(X[:, i].reshape(-1, 1), X[:, mask], n_b=200, maxiter=1000)\n",
    "    mi_yz = mlmi.mutual_information(X[:, j].reshape(-1, 1), X[:, mask], n_b=200, maxiter=1000)\n",
    "    mi_xyz = mlmi3.mutual_information(X[:, i].reshape(-1, 1), X[:, j].reshape(-1, 1), X[:, mask], n_b=200, maxiter=1000)\n",
    "    cmi[i, j] = mi_xyz - (mi_xz + mi_yz)\n",
    "\n",
    "cmi"
   ]
  },
  {
   "cell_type": "code",
   "execution_count": 17,
   "metadata": {},
   "outputs": [
    {
     "data": {
      "image/png": "[encoded data removed]",
      "text/plain": [
       "<matplotlib.figure.Figure at 0x7fea0ac31438>"
      ]
     },
     "metadata": {},
     "output_type": "display_data"
    }
   ],
   "source": [
    "f, axes = plt.subplots(2, 2, figsize=[9, 7])\n",
    "axes[0, 0].set_title('true covariance')\n",
    "axes[0, 1].set_title('predicted mi')\n",
    "axes[1, 0].set_title('true precision')\n",
    "axes[1, 1].set_title('predicted cmi')\n",
    "sns.heatmap(cov, annot=True, ax=axes[0, 0])\n",
    "sns.heatmap(mi + np.transpose(mi), annot=True, ax=axes[0, 1], vmin=0)\n",
    "sns.heatmap(pre, annot=True, ax=axes[1, 0])\n",
    "sns.heatmap(cmi + np.transpose(cmi), annot=True, ax=axes[1, 1], vmin=0)\n",
    "plt.savefig('cmi.png', dpi=120)"
   ]
  },
  {
   "cell_type": "code",
   "execution_count": 19,
   "metadata": {},
   "outputs": [
    {
     "name": "stdout",
     "output_type": "stream",
     "text": [
      "--2017-09-06 16:19:15--  https://archive.ics.uci.edu/ml/machine-learning-databases/water-treatment/water-treatment.data\n",
      "Resolving archive.ics.uci.edu (archive.ics.uci.edu)... 128.195.10.249\n",
      "Connecting to archive.ics.uci.edu (archive.ics.uci.edu)|128.195.10.249|:443... connected.\n",
      "HTTP request sent, awaiting response... 200 OK\n",
      "Length: 92549 (90K) [text/plain]\n",
      "Saving to: ‘water-treatment.csv’\n",
      "\n",
      "water-treatment.csv 100%[===================>]  90.38K   290KB/s    in 0.3s    \n",
      "\n",
      "2017-09-06 16:19:16 (290 KB/s) - ‘water-treatment.csv’ saved [92549/92549]\n",
      "\n"
     ]
    }
   ],
   "source": [
    "import os\n",
    "if not os.path.exists('water-treatment.csv'):\n",
    "    !wget -O water-treatment.csv https://archive.ics.uci.edu/ml/machine-learning-databases/water-treatment/water-treatment.data"
   ]
  },
  {
   "cell_type": "code",
   "execution_count": 43,
   "metadata": {},
   "outputs": [
    {
     "name": "stdout",
     "output_type": "stream",
     "text": [
      "Number of records:  527 -> 380\n"
     ]
    },
    {
     "data": {
      "text/html": [
       "<div>\n",
       "<style>\n",
       "    .dataframe thead tr:only-child th {\n",
       "        text-align: right;\n",
       "    }\n",
       "\n",
       "    .dataframe thead th {\n",
       "        text-align: left;\n",
       "    }\n",
       "\n",
       "    .dataframe tbody tr th {\n",
       "        vertical-align: top;\n",
       "    }\n",
       "</style>\n",
       "<table border=\"1\" class=\"dataframe\">\n",
       "  <thead>\n",
       "    <tr style=\"text-align: right;\">\n",
       "      <th></th>\n",
       "      <th>1</th>\n",
       "      <th>2</th>\n",
       "      <th>3</th>\n",
       "      <th>4</th>\n",
       "      <th>5</th>\n",
       "      <th>6</th>\n",
       "      <th>7</th>\n",
       "      <th>8</th>\n",
       "      <th>9</th>\n",
       "      <th>10</th>\n",
       "      <th>...</th>\n",
       "      <th>29</th>\n",
       "      <th>30</th>\n",
       "      <th>31</th>\n",
       "      <th>32</th>\n",
       "      <th>33</th>\n",
       "      <th>34</th>\n",
       "      <th>35</th>\n",
       "      <th>36</th>\n",
       "      <th>37</th>\n",
       "      <th>38</th>\n",
       "    </tr>\n",
       "  </thead>\n",
       "  <tbody>\n",
       "    <tr>\n",
       "      <th>3</th>\n",
       "      <td>-0.342789</td>\n",
       "      <td>0.525093</td>\n",
       "      <td>0.315869</td>\n",
       "      <td>0.250450</td>\n",
       "      <td>1.561485</td>\n",
       "      <td>-0.294765</td>\n",
       "      <td>0.374517</td>\n",
       "      <td>-0.063891</td>\n",
       "      <td>2.442977</td>\n",
       "      <td>-0.227956</td>\n",
       "      <td>...</td>\n",
       "      <td>0.932863</td>\n",
       "      <td>-0.403717</td>\n",
       "      <td>0.409139</td>\n",
       "      <td>0.521996</td>\n",
       "      <td>0.460589</td>\n",
       "      <td>0.347041</td>\n",
       "      <td>0.123252</td>\n",
       "      <td>0.481069</td>\n",
       "      <td>-0.002119</td>\n",
       "      <td>0.207640</td>\n",
       "    </tr>\n",
       "    <tr>\n",
       "      <th>8</th>\n",
       "      <td>-1.199077</td>\n",
       "      <td>0.095652</td>\n",
       "      <td>-0.529415</td>\n",
       "      <td>0.266743</td>\n",
       "      <td>0.399040</td>\n",
       "      <td>-0.277827</td>\n",
       "      <td>0.650968</td>\n",
       "      <td>-0.063891</td>\n",
       "      <td>-0.557492</td>\n",
       "      <td>-0.674468</td>\n",
       "      <td>...</td>\n",
       "      <td>-0.373482</td>\n",
       "      <td>0.467183</td>\n",
       "      <td>-1.180861</td>\n",
       "      <td>0.207854</td>\n",
       "      <td>0.215397</td>\n",
       "      <td>-0.993873</td>\n",
       "      <td>0.490159</td>\n",
       "      <td>-0.551941</td>\n",
       "      <td>0.096486</td>\n",
       "      <td>0.062419</td>\n",
       "    </tr>\n",
       "    <tr>\n",
       "      <th>9</th>\n",
       "      <td>0.273558</td>\n",
       "      <td>-0.119068</td>\n",
       "      <td>-0.106773</td>\n",
       "      <td>-0.287239</td>\n",
       "      <td>0.865715</td>\n",
       "      <td>-0.227013</td>\n",
       "      <td>0.643069</td>\n",
       "      <td>0.108054</td>\n",
       "      <td>1.007529</td>\n",
       "      <td>-0.227956</td>\n",
       "      <td>...</td>\n",
       "      <td>0.349952</td>\n",
       "      <td>-1.200925</td>\n",
       "      <td>0.061808</td>\n",
       "      <td>0.017124</td>\n",
       "      <td>0.619242</td>\n",
       "      <td>-0.242581</td>\n",
       "      <td>-0.096892</td>\n",
       "      <td>-1.135287</td>\n",
       "      <td>-0.511577</td>\n",
       "      <td>0.110826</td>\n",
       "    </tr>\n",
       "    <tr>\n",
       "      <th>10</th>\n",
       "      <td>0.732863</td>\n",
       "      <td>-0.677341</td>\n",
       "      <td>0.315869</td>\n",
       "      <td>-0.010248</td>\n",
       "      <td>0.628135</td>\n",
       "      <td>0.027056</td>\n",
       "      <td>0.485097</td>\n",
       "      <td>0.280000</td>\n",
       "      <td>-0.148452</td>\n",
       "      <td>1.111580</td>\n",
       "      <td>...</td>\n",
       "      <td>0.243259</td>\n",
       "      <td>-2.580966</td>\n",
       "      <td>-1.011055</td>\n",
       "      <td>0.151757</td>\n",
       "      <td>-10.457656</td>\n",
       "      <td>-4.084632</td>\n",
       "      <td>-12.828564</td>\n",
       "      <td>-5.145796</td>\n",
       "      <td>-7.660418</td>\n",
       "      <td>-15.185756</td>\n",
       "    </tr>\n",
       "    <tr>\n",
       "      <th>14</th>\n",
       "      <td>0.518317</td>\n",
       "      <td>0.525093</td>\n",
       "      <td>-0.952057</td>\n",
       "      <td>-0.710873</td>\n",
       "      <td>-0.636129</td>\n",
       "      <td>-0.328641</td>\n",
       "      <td>-0.273166</td>\n",
       "      <td>-0.751675</td>\n",
       "      <td>-0.427920</td>\n",
       "      <td>-1.120981</td>\n",
       "      <td>...</td>\n",
       "      <td>0.165190</td>\n",
       "      <td>-0.430514</td>\n",
       "      <td>-1.975861</td>\n",
       "      <td>-0.072631</td>\n",
       "      <td>-0.217295</td>\n",
       "      <td>-0.699062</td>\n",
       "      <td>-0.463799</td>\n",
       "      <td>-0.843614</td>\n",
       "      <td>-1.875609</td>\n",
       "      <td>0.014013</td>\n",
       "    </tr>\n",
       "  </tbody>\n",
       "</table>\n",
       "<p>5 rows × 38 columns</p>\n",
       "</div>"
      ],
      "text/plain": [
       "          1         2         3         4         5         6         7   \\\n",
       "3  -0.342789  0.525093  0.315869  0.250450  1.561485 -0.294765  0.374517   \n",
       "8  -1.199077  0.095652 -0.529415  0.266743  0.399040 -0.277827  0.650968   \n",
       "9   0.273558 -0.119068 -0.106773 -0.287239  0.865715 -0.227013  0.643069   \n",
       "10  0.732863 -0.677341  0.315869 -0.010248  0.628135  0.027056  0.485097   \n",
       "14  0.518317  0.525093 -0.952057 -0.710873 -0.636129 -0.328641 -0.273166   \n",
       "\n",
       "          8         9         10    ...            29        30        31  \\\n",
       "3  -0.063891  2.442977 -0.227956    ...      0.932863 -0.403717  0.409139   \n",
       "8  -0.063891 -0.557492 -0.674468    ...     -0.373482  0.467183 -1.180861   \n",
       "9   0.108054  1.007529 -0.227956    ...      0.349952 -1.200925  0.061808   \n",
       "10  0.280000 -0.148452  1.111580    ...      0.243259 -2.580966 -1.011055   \n",
       "14 -0.751675 -0.427920 -1.120981    ...      0.165190 -0.430514 -1.975861   \n",
       "\n",
       "          32         33        34         35        36        37         38  \n",
       "3   0.521996   0.460589  0.347041   0.123252  0.481069 -0.002119   0.207640  \n",
       "8   0.207854   0.215397 -0.993873   0.490159 -0.551941  0.096486   0.062419  \n",
       "9   0.017124   0.619242 -0.242581  -0.096892 -1.135287 -0.511577   0.110826  \n",
       "10  0.151757 -10.457656 -4.084632 -12.828564 -5.145796 -7.660418 -15.185756  \n",
       "14 -0.072631  -0.217295 -0.699062  -0.463799 -0.843614 -1.875609   0.014013  \n",
       "\n",
       "[5 rows x 38 columns]"
      ]
     },
     "execution_count": 43,
     "metadata": {},
     "output_type": "execute_result"
    }
   ],
   "source": [
    "df_raw = pd.read_csv('water-treatment.csv', header=None, na_values='?')\n",
    "df = df_raw.drop(df_raw.columns[0], axis=1).dropna()\n",
    "df = (df - df.mean()) / df.std()\n",
    "print('Number of records: ', len(df_raw), '->', len(df))\n",
    "df[:5]"
   ]
  },
  {
   "cell_type": "code",
   "execution_count": 52,
   "metadata": {},
   "outputs": [
    {
     "name": "stderr",
     "output_type": "stream",
     "text": [
      "\n",
      "  0%|          | 0/703 [00:00<?, ?it/s]\u001b[A\n",
      "  0%|          | 1/703 [00:06<1:13:27,  6.28s/it]\u001b[A\n",
      "  0%|          | 3/703 [00:18<1:11:04,  6.09s/it]"
     ]
    },
    {
     "ename": "Exception",
     "evalue": "Optimization failed.",
     "output_type": "error",
     "traceback": [
      "\u001b[0;31m---------------------------------------------------------------------------\u001b[0m",
      "\u001b[0;31mException\u001b[0m                                 Traceback (most recent call last)",
      "\u001b[0;32m<ipython-input-52-c9f7d5dbc47c>\u001b[0m in \u001b[0;36m<module>\u001b[0;34m()\u001b[0m\n\u001b[1;32m      6\u001b[0m     \u001b[0mmi_xz\u001b[0m \u001b[0;34m=\u001b[0m \u001b[0mmlmi\u001b[0m\u001b[0;34m.\u001b[0m\u001b[0mmutual_information\u001b[0m\u001b[0;34m(\u001b[0m\u001b[0mX\u001b[0m\u001b[0;34m[\u001b[0m\u001b[0;34m:\u001b[0m\u001b[0;34m,\u001b[0m \u001b[0mi\u001b[0m\u001b[0;34m]\u001b[0m\u001b[0;34m.\u001b[0m\u001b[0mreshape\u001b[0m\u001b[0;34m(\u001b[0m\u001b[0;34m-\u001b[0m\u001b[0;36m1\u001b[0m\u001b[0;34m,\u001b[0m \u001b[0;36m1\u001b[0m\u001b[0;34m)\u001b[0m\u001b[0;34m,\u001b[0m \u001b[0mX\u001b[0m\u001b[0;34m[\u001b[0m\u001b[0;34m:\u001b[0m\u001b[0;34m,\u001b[0m \u001b[0mmask\u001b[0m\u001b[0;34m]\u001b[0m\u001b[0;34m,\u001b[0m \u001b[0msigma\u001b[0m\u001b[0;34m=\u001b[0m\u001b[0;36m0.5\u001b[0m\u001b[0;34m,\u001b[0m \u001b[0mn_b\u001b[0m\u001b[0;34m=\u001b[0m\u001b[0;36m380\u001b[0m\u001b[0;34m,\u001b[0m \u001b[0mmaxiter\u001b[0m\u001b[0;34m=\u001b[0m\u001b[0;36m1000\u001b[0m\u001b[0;34m)\u001b[0m\u001b[0;34m\u001b[0m\u001b[0m\n\u001b[1;32m      7\u001b[0m     \u001b[0mmi_yz\u001b[0m \u001b[0;34m=\u001b[0m \u001b[0mmlmi\u001b[0m\u001b[0;34m.\u001b[0m\u001b[0mmutual_information\u001b[0m\u001b[0;34m(\u001b[0m\u001b[0mX\u001b[0m\u001b[0;34m[\u001b[0m\u001b[0;34m:\u001b[0m\u001b[0;34m,\u001b[0m \u001b[0mj\u001b[0m\u001b[0;34m]\u001b[0m\u001b[0;34m.\u001b[0m\u001b[0mreshape\u001b[0m\u001b[0;34m(\u001b[0m\u001b[0;34m-\u001b[0m\u001b[0;36m1\u001b[0m\u001b[0;34m,\u001b[0m \u001b[0;36m1\u001b[0m\u001b[0;34m)\u001b[0m\u001b[0;34m,\u001b[0m \u001b[0mX\u001b[0m\u001b[0;34m[\u001b[0m\u001b[0;34m:\u001b[0m\u001b[0;34m,\u001b[0m \u001b[0mmask\u001b[0m\u001b[0;34m]\u001b[0m\u001b[0;34m,\u001b[0m \u001b[0msigma\u001b[0m\u001b[0;34m=\u001b[0m\u001b[0;36m0.5\u001b[0m\u001b[0;34m,\u001b[0m \u001b[0mn_b\u001b[0m\u001b[0;34m=\u001b[0m\u001b[0;36m380\u001b[0m\u001b[0;34m,\u001b[0m \u001b[0mmaxiter\u001b[0m\u001b[0;34m=\u001b[0m\u001b[0;36m1000\u001b[0m\u001b[0;34m)\u001b[0m\u001b[0;34m\u001b[0m\u001b[0m\n\u001b[0;32m----> 8\u001b[0;31m     \u001b[0mmi_xyz\u001b[0m \u001b[0;34m=\u001b[0m \u001b[0mmlmi3\u001b[0m\u001b[0;34m.\u001b[0m\u001b[0mmutual_information\u001b[0m\u001b[0;34m(\u001b[0m\u001b[0mX\u001b[0m\u001b[0;34m[\u001b[0m\u001b[0;34m:\u001b[0m\u001b[0;34m,\u001b[0m \u001b[0mi\u001b[0m\u001b[0;34m]\u001b[0m\u001b[0;34m.\u001b[0m\u001b[0mreshape\u001b[0m\u001b[0;34m(\u001b[0m\u001b[0;34m-\u001b[0m\u001b[0;36m1\u001b[0m\u001b[0;34m,\u001b[0m \u001b[0;36m1\u001b[0m\u001b[0;34m)\u001b[0m\u001b[0;34m,\u001b[0m \u001b[0mX\u001b[0m\u001b[0;34m[\u001b[0m\u001b[0;34m:\u001b[0m\u001b[0;34m,\u001b[0m \u001b[0mj\u001b[0m\u001b[0;34m]\u001b[0m\u001b[0;34m.\u001b[0m\u001b[0mreshape\u001b[0m\u001b[0;34m(\u001b[0m\u001b[0;34m-\u001b[0m\u001b[0;36m1\u001b[0m\u001b[0;34m,\u001b[0m \u001b[0;36m1\u001b[0m\u001b[0;34m)\u001b[0m\u001b[0;34m,\u001b[0m \u001b[0mX\u001b[0m\u001b[0;34m[\u001b[0m\u001b[0;34m:\u001b[0m\u001b[0;34m,\u001b[0m \u001b[0mmask\u001b[0m\u001b[0;34m]\u001b[0m\u001b[0;34m,\u001b[0m \u001b[0msigma\u001b[0m\u001b[0;34m=\u001b[0m\u001b[0;36m0.5\u001b[0m\u001b[0;34m,\u001b[0m \u001b[0mn_b\u001b[0m\u001b[0;34m=\u001b[0m\u001b[0;36m380\u001b[0m\u001b[0;34m,\u001b[0m \u001b[0mmaxiter\u001b[0m\u001b[0;34m=\u001b[0m\u001b[0;36m1000\u001b[0m\u001b[0;34m)\u001b[0m\u001b[0;34m\u001b[0m\u001b[0m\n\u001b[0m\u001b[1;32m      9\u001b[0m     \u001b[0mcmi\u001b[0m\u001b[0;34m[\u001b[0m\u001b[0mj\u001b[0m\u001b[0;34m,\u001b[0m \u001b[0mi\u001b[0m\u001b[0;34m]\u001b[0m \u001b[0;34m=\u001b[0m \u001b[0mcmi\u001b[0m\u001b[0;34m[\u001b[0m\u001b[0mi\u001b[0m\u001b[0;34m,\u001b[0m \u001b[0mj\u001b[0m\u001b[0;34m]\u001b[0m \u001b[0;34m=\u001b[0m \u001b[0mmi_xyz\u001b[0m \u001b[0;34m-\u001b[0m \u001b[0;34m(\u001b[0m\u001b[0mmi_xz\u001b[0m \u001b[0;34m+\u001b[0m \u001b[0mmi_yz\u001b[0m\u001b[0;34m)\u001b[0m\u001b[0;34m\u001b[0m\u001b[0m\n\u001b[1;32m     10\u001b[0m \u001b[0;34m\u001b[0m\u001b[0m\n",
      "\u001b[0;32m/home/ytakashina/workspace/density_ratio/mlmi3.py\u001b[0m in \u001b[0;36mmutual_information\u001b[0;34m(X, Y, Z, sigma, n_b, maxiter)\u001b[0m\n\u001b[1;32m     53\u001b[0m     \u001b[0mresult\u001b[0m \u001b[0;34m=\u001b[0m \u001b[0mscipy\u001b[0m\u001b[0;34m.\u001b[0m\u001b[0moptimize\u001b[0m\u001b[0;34m.\u001b[0m\u001b[0mminimize\u001b[0m\u001b[0;34m(\u001b[0m\u001b[0mfun\u001b[0m\u001b[0;34m=\u001b[0m\u001b[0mfun\u001b[0m\u001b[0;34m,\u001b[0m \u001b[0mjac\u001b[0m\u001b[0;34m=\u001b[0m\u001b[0mjac\u001b[0m\u001b[0;34m,\u001b[0m \u001b[0mx0\u001b[0m\u001b[0;34m=\u001b[0m\u001b[0malpha0\u001b[0m\u001b[0;34m,\u001b[0m \u001b[0mbounds\u001b[0m\u001b[0;34m=\u001b[0m\u001b[0mbounds\u001b[0m\u001b[0;34m,\u001b[0m \u001b[0mconstraints\u001b[0m\u001b[0;34m=\u001b[0m\u001b[0mconstraints\u001b[0m\u001b[0;34m,\u001b[0m \u001b[0moptions\u001b[0m\u001b[0;34m=\u001b[0m\u001b[0;34m{\u001b[0m\u001b[0;34m'maxiter'\u001b[0m\u001b[0;34m:\u001b[0m \u001b[0mmaxiter\u001b[0m\u001b[0;34m}\u001b[0m\u001b[0;34m)\u001b[0m\u001b[0;34m\u001b[0m\u001b[0m\n\u001b[1;32m     54\u001b[0m     \u001b[0;32mif\u001b[0m \u001b[0;32mnot\u001b[0m \u001b[0mresult\u001b[0m\u001b[0;34m.\u001b[0m\u001b[0msuccess\u001b[0m\u001b[0;34m:\u001b[0m\u001b[0;34m\u001b[0m\u001b[0m\n\u001b[0;32m---> 55\u001b[0;31m         \u001b[0;32mraise\u001b[0m \u001b[0mException\u001b[0m\u001b[0;34m(\u001b[0m\u001b[0;34m'Optimization failed.'\u001b[0m\u001b[0;34m)\u001b[0m\u001b[0;34m\u001b[0m\u001b[0m\n\u001b[0m\u001b[1;32m     56\u001b[0m     \u001b[0malpha\u001b[0m \u001b[0;34m=\u001b[0m \u001b[0mresult\u001b[0m\u001b[0;34m.\u001b[0m\u001b[0mx\u001b[0m\u001b[0;34m\u001b[0m\u001b[0m\n\u001b[1;32m     57\u001b[0m     \u001b[0;32mreturn\u001b[0m \u001b[0mnp\u001b[0m\u001b[0;34m.\u001b[0m\u001b[0mmean\u001b[0m\u001b[0;34m(\u001b[0m\u001b[0mnp\u001b[0m\u001b[0;34m.\u001b[0m\u001b[0mlog\u001b[0m\u001b[0;34m(\u001b[0m\u001b[0mA\u001b[0m\u001b[0;34m.\u001b[0m\u001b[0mdot\u001b[0m\u001b[0;34m(\u001b[0m\u001b[0malpha\u001b[0m\u001b[0;34m)\u001b[0m\u001b[0;34m)\u001b[0m\u001b[0;34m)\u001b[0m\u001b[0;34m\u001b[0m\u001b[0m\n",
      "\u001b[0;31mException\u001b[0m: Optimization failed."
     ]
    }
   ],
   "source": [
    "d = len(df.columns)\n",
    "cmi = np.zeros([d, d])\n",
    "X = df.values\n",
    "for i, j in tqdm.tqdm([(i, j) for i in range(d) for j in range(d) if i < j]):\n",
    "    mask = (np.arange(d) != i) & (np.arange(d) != j)\n",
    "    mi_xz = mlmi.mutual_information(X[:, i].reshape(-1, 1), X[:, mask], sigma=0.5, n_b=380, maxiter=1000)\n",
    "    mi_yz = mlmi.mutual_information(X[:, j].reshape(-1, 1), X[:, mask], sigma=0.5, n_b=380, maxiter=1000)\n",
    "    mi_xyz = mlmi3.mutual_information(X[:, i].reshape(-1, 1), X[:, j].reshape(-1, 1), X[:, mask], sigma=0.5, n_b=380, maxiter=1000)\n",
    "    cmi[j, i] = cmi[i, j] = mi_xyz - (mi_xz + mi_yz)\n",
    "\n",
    "cmi"
   ]
  },
  {
   "cell_type": "code",
   "execution_count": 53,
   "metadata": {},
   "outputs": [
    {
     "data": {
      "text/plain": [
       "<matplotlib.axes._subplots.AxesSubplot at 0x7fea0506dd30>"
      ]
     },
     "execution_count": 53,
     "metadata": {},
     "output_type": "execute_result"
    },
    {
     "data": {
      "image/png": "[encoded data removed]",
      "text/plain": [
       "<matplotlib.figure.Figure at 0x7fea04ed4ba8>"
      ]
     },
     "metadata": {},
     "output_type": "display_data"
    }
   ],
   "source": [
    "sns.heatmap(cmi)"
   ]
  },
  {
   "cell_type": "code",
   "execution_count": null,
   "metadata": {
    "collapsed": true
   },
   "outputs": [],
   "source": []
  }
 ],
 "metadata": {
  "kernelspec": {
   "display_name": "py36",
   "language": "python",
   "name": "py36"
  }
 },
 "nbformat": 4,
 "nbformat_minor": 1
}
