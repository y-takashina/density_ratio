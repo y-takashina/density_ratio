{
 "cells": [
  {
   "cell_type": "code",
   "execution_count": 1,
   "metadata": {},
   "outputs": [],
   "source": [
    "import tqdm\n",
    "import numpy as np\n",
    "import scipy.stats\n",
    "import pandas as pd\n",
    "import sklearn\n",
    "import sklearn.cluster\n",
    "import matplotlib.pyplot as plt\n",
    "% matplotlib inline\n",
    "import seaborn as sns\n",
    "sns.set_style('ticks')\n",
    "palette = sns.color_palette(\"RdBu_r\", n_colors=25)"
   ]
  },
  {
   "cell_type": "code",
   "execution_count": 2,
   "metadata": {},
   "outputs": [
    {
     "data": {
      "text/plain": [
       "[<matplotlib.lines.Line2D at 0x7fbf79cac828>]"
      ]
     },
     "execution_count": 2,
     "metadata": {},
     "output_type": "execute_result"
    },
    {
     "data": {
      "image/png": "[encoded data removed]",
      "text/plain": [
       "<matplotlib.figure.Figure at 0x7fbf7a16f160>"
      ]
     },
     "metadata": {},
     "output_type": "display_data"
    }
   ],
   "source": [
    "plt.plot([scipy.stats.norm(0, 2).pdf(x) for x in np.arange(-5, 5, 0.1)])\n",
    "plt.plot([scipy.stats.norm(1, 1).pdf(x) for x in np.arange(-5, 5, 0.1)])"
   ]
  },
  {
   "cell_type": "code",
   "execution_count": 3,
   "metadata": {
    "collapsed": true
   },
   "outputs": [],
   "source": [
    "X_tr = scipy.stats.norm(0, 2).rvs(300)\n",
    "X_te = scipy.stats.norm(1, 1).rvs(1000)"
   ]
  },
  {
   "cell_type": "code",
   "execution_count": 4,
   "metadata": {},
   "outputs": [
    {
     "data": {
      "image/png": "[encoded data removed]",
      "text/plain": [
       "<matplotlib.figure.Figure at 0x7fbf775d66a0>"
      ]
     },
     "metadata": {},
     "output_type": "display_data"
    }
   ],
   "source": [
    "weights_tr = np.ones_like(X_tr)/len(X_tr)\n",
    "weights_te = np.ones_like(X_te)/len(X_te)\n",
    "plt.hist(X_tr, bins=50, weights=weights_tr)\n",
    "plt.hist(X_te, bins=50, weights=weights_te)\n",
    "plt.show()"
   ]
  },
  {
   "cell_type": "code",
   "execution_count": 5,
   "metadata": {
    "collapsed": true
   },
   "outputs": [],
   "source": [
    "class ULsifLooCV(object):\n",
    "    def __init__(self, sigmas, lambdas):\n",
    "        self._sigmas = sigmas\n",
    "        self._lambdas = lambdas\n",
    "    \n",
    "    def fit(self, X_tr, X_te):\n",
    "        n_tr = len(X_tr)\n",
    "        n_te = len(X_te)\n",
    "        b = min(100, n_te)\n",
    "        n = min(n_tr, n_te)\n",
    "        means = sklearn.cluster.KMeans(b).fit(X_tr).cluster_centers_\n",
    "        \n",
    "        def norm(mean, sigma):\n",
    "            cov = np.eye(len(mean)) * sigma\n",
    "            return lambda x: scipy.stats.multivariate_normal.pdf(x, mean=mean, cov=cov)\n",
    "        \n",
    "        score = np.inf\n",
    "        for sigma in self._sigmas:\n",
    "            bases = [norm(mean, sigma) for mean in means]\n",
    "            phi = np.array([b(X_tr) for b in bases])\n",
    "#             H = np.einsum('ik,jk->ij', phi, phi) / n_tr\n",
    "            H = phi.dot(phi.transpose()) / n_tr\n",
    "            h = np.mean([b(X_te) for b in bases], axis=1)\n",
    "            phi_tr = np.array([b(X_tr[:n]) for b in bases])\n",
    "            phi_te = np.array([b(X_te[:n]) for b in bases])\n",
    "            \n",
    "            for lamb in self._lambdas:\n",
    "                B = H + lamb * (n_tr - 1) / n_tr * np.eye(b)\n",
    "                B_inv_phi_tr = np.linalg.solve(B, phi_tr)\n",
    "                denom = n_tr - np.sum(phi_tr * B_inv_phi_tr, axis=0)\n",
    "                B0 = np.repeat(np.linalg.solve(B, h), n).reshape(b, n)\n",
    "                B0 += B_inv_phi_tr * (h.dot(B_inv_phi_tr) / denom).reshape(1, -1)\n",
    "                B1 = np.linalg.solve(B, phi_te)\n",
    "                B1 += B_inv_phi_tr * (np.sum(phi_te * B_inv_phi_tr, axis=0) / denom).reshape(1, -1)\n",
    "                B2 = (n_tr - 1) / n_tr / (n_te - 1) * (n_te * B0 - B1)\n",
    "                B2[B2 < 0] = 0\n",
    "                w_tr = np.sum(phi_tr * B2, axis=0)\n",
    "                score_new = w_tr.dot(w_tr) / n / 2 - np.sum(phi_te * B2) / n\n",
    "                if score > score_new:\n",
    "                    score = score_new\n",
    "                    self.sigma_opt = sigma\n",
    "                    self.lambda_opt = lamb\n",
    "                    print('sigma: %f, lambda: %f, score: %f' % (sigma, lamb, score))\n",
    "        \n",
    "        return self"
   ]
  },
  {
   "cell_type": "code",
   "execution_count": 6,
   "metadata": {},
   "outputs": [
    {
     "name": "stdout",
     "output_type": "stream",
     "text": [
      "sigma: 0.010000, lambda: 0.000001, score: 5368.098312\n",
      "sigma: 0.010000, lambda: 0.000010, score: 712.268297\n",
      "sigma: 0.010000, lambda: 0.000100, score: 69.555906\n",
      "sigma: 0.010000, lambda: 0.001000, score: 5.741339\n",
      "sigma: 0.010000, lambda: 0.010000, score: -0.069681\n",
      "sigma: 0.010000, lambda: 0.050000, score: -0.574229\n",
      "sigma: 0.010000, lambda: 0.100000, score: -0.652164\n",
      "sigma: 0.010000, lambda: 0.200000, score: -0.707222\n",
      "sigma: 0.010000, lambda: 0.300000, score: -0.733438\n",
      "sigma: 0.010000, lambda: 0.500000, score: -0.750331\n",
      "sigma: 0.050000, lambda: 0.050000, score: -0.762190\n",
      "sigma: 0.050000, lambda: 0.100000, score: -0.781714\n",
      "sigma: 0.050000, lambda: 0.200000, score: -0.796675\n",
      "sigma: 0.050000, lambda: 0.300000, score: -0.800210\n",
      "sigma: 0.100000, lambda: 0.100000, score: -0.806992\n",
      "sigma: 0.100000, lambda: 0.200000, score: -0.814232\n",
      "sigma: 0.200000, lambda: 0.050000, score: -0.818318\n",
      "sigma: 0.200000, lambda: 0.100000, score: -0.824668\n",
      "sigma: 0.200000, lambda: 0.200000, score: -0.827604\n",
      "sigma: 0.300000, lambda: 0.100000, score: -0.831851\n",
      "sigma: 0.300000, lambda: 0.200000, score: -0.833046\n",
      "sigma: 0.500000, lambda: 0.050000, score: -0.834591\n",
      "sigma: 0.500000, lambda: 0.100000, score: -0.838391\n",
      "sigma: 0.750000, lambda: 0.100000, score: -0.841248\n"
     ]
    },
    {
     "data": {
      "text/plain": [
       "<__main__.ULsifLooCV at 0x7fbf77494d68>"
      ]
     },
     "execution_count": 6,
     "metadata": {},
     "output_type": "execute_result"
    }
   ],
   "source": [
    "sigmas = [0.01, 0.05, 0.1, 0.2, 0.3, 0.5, 0.75, 1, 1.25, 1.5, 2, 2.5, 3, 5, 10]\n",
    "lambdas = [1e-6, 1e-5, 1e-4, 1e-3, 1e-2, 0.05, 0.1, 0.2, 0.3, 0.5, 0.75]\n",
    "cv = ULsifLooCV(sigmas=sigmas, lambdas=lambdas)\n",
    "cv.fit(X_tr.reshape(-1, 1), X_te.reshape(-1, 1))"
   ]
  },
  {
   "cell_type": "code",
   "execution_count": 7,
   "metadata": {},
   "outputs": [
    {
     "data": {
      "text/plain": [
       "(0.75, 0.1)"
      ]
     },
     "execution_count": 7,
     "metadata": {},
     "output_type": "execute_result"
    }
   ],
   "source": [
    "cv.sigma_opt, cv.lambda_opt"
   ]
  },
  {
   "cell_type": "code",
   "execution_count": 8,
   "metadata": {
    "collapsed": true
   },
   "outputs": [],
   "source": [
    "b = 100\n",
    "sigma = cv.sigma_opt\n",
    "lamb = cv.lambda_opt\n",
    "means = sklearn.cluster.KMeans(b).fit(X_tr.reshape(-1, 1)).cluster_centers_[:, 0]\n",
    "\n",
    "def norm(mean, sigma):\n",
    "    return lambda x: scipy.stats.norm.pdf(x, loc=mean, scale=sigma)\n",
    "\n",
    "bases = [norm(mean, sigma) for mean in means]"
   ]
  },
  {
   "cell_type": "code",
   "execution_count": 9,
   "metadata": {
    "collapsed": true
   },
   "outputs": [],
   "source": [
    "phi = np.array([b(X_tr) for b in bases])\n",
    "H = phi.dot(phi.transpose()) / len(X_tr)\n",
    "h = np.mean([b(X_te) for b in bases], axis=1)"
   ]
  },
  {
   "cell_type": "code",
   "execution_count": 10,
   "metadata": {
    "collapsed": true
   },
   "outputs": [],
   "source": [
    "alpha = np.linalg.solve(H + lamb * np.eye(b), h)\n",
    "alpha[alpha < 0] = 0"
   ]
  },
  {
   "cell_type": "code",
   "execution_count": 11,
   "metadata": {},
   "outputs": [
    {
     "data": {
      "text/plain": [
       "<matplotlib.legend.Legend at 0x7fbf774ac4a8>"
      ]
     },
     "execution_count": 11,
     "metadata": {},
     "output_type": "execute_result"
    },
    {
     "data": {
      "image/png": "[encoded data removed]",
      "text/plain": [
       "<matplotlib.figure.Figure at 0x7fbf7748a550>"
      ]
     },
     "metadata": {},
     "output_type": "display_data"
    }
   ],
   "source": [
    "def true_ratio(x):\n",
    "    return scipy.stats.norm(1, 1).pdf(x) / scipy.stats.norm(0, 2).pdf(x)\n",
    "\n",
    "def approximated_ratio(x):\n",
    "    return np.sum([alpha[i] * bases[i](x) for i in range(b)])\n",
    "\n",
    "plt.plot(np.arange(-5, 5, 0.1), [true_ratio(x) for x in np.arange(-5, 5, 0.1)], label='true')\n",
    "plt.plot(np.arange(-5, 5, 0.1), [approximated_ratio(x) for x in np.arange(-5, 5, 0.1)], label='approx')\n",
    "plt.legend()"
   ]
  },
  {
   "cell_type": "code",
   "execution_count": null,
   "metadata": {
    "collapsed": true
   },
   "outputs": [],
   "source": []
  }
 ],
 "metadata": {
  "kernelspec": {
   "display_name": "py36",
   "language": "python",
   "name": "py36"
  },
  "language_info": {
   "codemirror_mode": {
    "name": "ipython",
    "version": 3
   },
   "file_extension": ".py",
   "mimetype": "text/x-python",
   "name": "python",
   "nbconvert_exporter": "python",
   "pygments_lexer": "ipython3",
   "version": "3.6.1"
  }
 },
 "nbformat": 4,
 "nbformat_minor": 2
}
