{
 "cells": [
  {
   "cell_type": "code",
   "execution_count": 1,
   "metadata": {
    "collapsed": true
   },
   "outputs": [],
   "source": [
    "import tqdm\n",
    "import numpy as np\n",
    "import scipy.stats\n",
    "import pandas as pd\n",
    "import sklearn\n",
    "import sklearn.cluster\n",
    "import matplotlib.pyplot as plt\n",
    "% matplotlib inline\n",
    "import seaborn as sns\n",
    "sns.set_style('ticks')\n",
    "palette = sns.color_palette(\"RdBu_r\", n_colors=25)"
   ]
  },
  {
   "cell_type": "code",
   "execution_count": 2,
   "metadata": {},
   "outputs": [
    {
     "data": {
      "text/plain": [
       "[<matplotlib.lines.Line2D at 0x7f398b5ba780>]"
      ]
     },
     "execution_count": 2,
     "metadata": {},
     "output_type": "execute_result"
    },
    {
     "data": {
      "image/png": "[encoded data removed]",
      "text/plain": [
       "<matplotlib.figure.Figure at 0x7f398bed1898>"
      ]
     },
     "metadata": {},
     "output_type": "display_data"
    }
   ],
   "source": [
    "plt.plot([scipy.stats.norm(0, 2).pdf(x) for x in np.arange(-5, 5, 0.1)])\n",
    "plt.plot([scipy.stats.norm(1, 1).pdf(x) for x in np.arange(-5, 5, 0.1)])"
   ]
  },
  {
   "cell_type": "code",
   "execution_count": 3,
   "metadata": {
    "collapsed": true
   },
   "outputs": [],
   "source": [
    "X_tr = scipy.stats.norm(0, 2).rvs(300)\n",
    "X_te = scipy.stats.norm(1, 1).rvs(1000)"
   ]
  },
  {
   "cell_type": "code",
   "execution_count": 4,
   "metadata": {},
   "outputs": [
    {
     "data": {
      "image/png": "[encoded data removed]",
      "text/plain": [
       "<matplotlib.figure.Figure at 0x7f3988e78908>"
      ]
     },
     "metadata": {},
     "output_type": "display_data"
    }
   ],
   "source": [
    "weights_tr = np.ones_like(X_tr)/len(X_tr)\n",
    "weights_te = np.ones_like(X_te)/len(X_te)\n",
    "plt.hist(X_tr, bins=100, weights=weights_tr)\n",
    "plt.hist(X_te, bins=50, weights=weights_te)\n",
    "plt.show()"
   ]
  },
  {
   "cell_type": "code",
   "execution_count": 5,
   "metadata": {
    "collapsed": true
   },
   "outputs": [],
   "source": [
    "def norm(X, mean, sigma):\n",
    "    cov = np.eye(len(mean)) * sigma\n",
    "    return scipy.stats.multivariate_normal.pdf(X, mean=mean, cov=cov)\n",
    "\n",
    "\n",
    "class ULsifLooCV(object):\n",
    "    def __init__(self, sigmas, lambdas):\n",
    "        self._sigmas = sigmas\n",
    "        self._lambdas = lambdas\n",
    "    \n",
    "    def fit(self, X_tr, X_te):\n",
    "        n_tr = len(X_tr)\n",
    "        n_te = len(X_te)\n",
    "        b = min(100, n_te)\n",
    "        n = min(n_tr, n_te)\n",
    "        means = sklearn.cluster.KMeans(b).fit(X_tr).cluster_centers_\n",
    "        \n",
    "        score = np.inf\n",
    "        for sigma in self._sigmas:\n",
    "            phi_tr = np.array([norm(X_tr, mean, sigma) for mean in means])\n",
    "            phi_te = np.array([norm(X_te, mean, sigma) for mean in means])\n",
    "            H = phi_tr.dot(phi_tr.transpose()) / n_tr\n",
    "            h = np.mean(phi_te, axis=1)\n",
    "            \n",
    "            for lamb in self._lambdas:\n",
    "                B = H + lamb * (n_tr - 1) / n_tr * np.eye(b)\n",
    "                B_inv_phi_tr = np.linalg.solve(B, phi_tr[:, :n])\n",
    "                denom = n_tr - np.sum(phi_tr[:, :n] * B_inv_phi_tr, axis=0)\n",
    "                B0 = np.repeat(np.linalg.solve(B, h), n).reshape(b, n)\n",
    "                B0 += B_inv_phi_tr * (h.dot(B_inv_phi_tr) / denom).reshape(1, -1)\n",
    "                B1 = np.linalg.solve(B, phi_te[:, :n])\n",
    "                B1 += B_inv_phi_tr * (np.sum(phi_te[:, :n] * B_inv_phi_tr, axis=0) / denom).reshape(1, -1)\n",
    "                B2 = (n_tr - 1) / n_tr / (n_te - 1) * (n_te * B0 - B1)\n",
    "                B2[B2 < 0] = 0\n",
    "                w_tr = np.sum(phi_tr[:, :n] * B2, axis=0)\n",
    "                score_new = w_tr.dot(w_tr) / n / 2 - np.sum(phi_te[:, :n] * B2) / n\n",
    "                if score > score_new:\n",
    "                    score = score_new\n",
    "                    self.sigma_opt = sigma\n",
    "                    self.lambda_opt = lamb\n",
    "                    print('sigma: %f, lambda: %f, score: %f' % (sigma, lamb, score))\n",
    "        \n",
    "        return self"
   ]
  },
  {
   "cell_type": "code",
   "execution_count": 6,
   "metadata": {},
   "outputs": [
    {
     "name": "stdout",
     "output_type": "stream",
     "text": [
      "sigma: 0.010000, lambda: 0.000001, score: 12010.713728\n",
      "sigma: 0.010000, lambda: 0.000010, score: 4735.554238\n",
      "sigma: 0.010000, lambda: 0.000100, score: 1505.998229\n",
      "sigma: 0.010000, lambda: 0.001000, score: 118.216264\n",
      "sigma: 0.010000, lambda: 0.010000, score: 1.975666\n",
      "sigma: 0.010000, lambda: 0.100000, score: -0.647446\n",
      "sigma: 0.050000, lambda: 0.010000, score: -0.674061\n",
      "sigma: 0.050000, lambda: 0.100000, score: -0.784276\n",
      "sigma: 0.100000, lambda: 0.100000, score: -0.800036\n",
      "sigma: 0.300000, lambda: 0.100000, score: -0.827916\n",
      "sigma: 0.500000, lambda: 0.100000, score: -0.833094\n"
     ]
    },
    {
     "data": {
      "text/plain": [
       "<__main__.ULsifLooCV at 0x7f3988db05f8>"
      ]
     },
     "execution_count": 6,
     "metadata": {},
     "output_type": "execute_result"
    }
   ],
   "source": [
    "sigmas = [1e-2, 5e-2, 0.1, 0.3, 0.5, 1, 2, 3, 5, 10]\n",
    "lambdas = [1e-6, 1e-5, 1e-4, 1e-3, 1e-2, 1e-1]\n",
    "cv = ULsifLooCV(sigmas=sigmas, lambdas=lambdas)\n",
    "cv.fit(X_tr.reshape(-1, 1), X_te.reshape(-1, 1))"
   ]
  },
  {
   "cell_type": "code",
   "execution_count": 7,
   "metadata": {},
   "outputs": [
    {
     "data": {
      "text/plain": [
       "(0.5, 0.1)"
      ]
     },
     "execution_count": 7,
     "metadata": {},
     "output_type": "execute_result"
    }
   ],
   "source": [
    "cv.sigma_opt, cv.lambda_opt"
   ]
  },
  {
   "cell_type": "code",
   "execution_count": 8,
   "metadata": {
    "collapsed": true
   },
   "outputs": [],
   "source": [
    "b = 100\n",
    "sigma = cv.sigma_opt\n",
    "lamb = cv.lambda_opt\n",
    "means = sklearn.cluster.KMeans(b).fit(X_tr.reshape(-1, 1)).cluster_centers_[:, 0]\n",
    "\n",
    "def norm(mean, sigma):\n",
    "    return lambda x: scipy.stats.norm.pdf(x, loc=mean, scale=sigma)\n",
    "\n",
    "bases = [norm(mean, sigma) for mean in means]"
   ]
  },
  {
   "cell_type": "code",
   "execution_count": 9,
   "metadata": {
    "collapsed": true
   },
   "outputs": [],
   "source": [
    "phi = np.array([b(X_tr) for b in bases])\n",
    "H = phi.dot(phi.transpose()) / len(X_tr)\n",
    "h = np.mean([b(X_te) for b in bases], axis=1)"
   ]
  },
  {
   "cell_type": "code",
   "execution_count": 10,
   "metadata": {
    "collapsed": true
   },
   "outputs": [],
   "source": [
    "alpha = np.linalg.solve(H + lamb * np.eye(b), h)\n",
    "alpha[alpha < 0] = 0"
   ]
  },
  {
   "cell_type": "code",
   "execution_count": 11,
   "metadata": {},
   "outputs": [
    {
     "data": {
      "text/plain": [
       "<matplotlib.legend.Legend at 0x7f3988b59438>"
      ]
     },
     "execution_count": 11,
     "metadata": {},
     "output_type": "execute_result"
    },
    {
     "data": {
      "image/png": "[encoded data removed]",
      "text/plain": [
       "<matplotlib.figure.Figure at 0x7f3988e4ac18>"
      ]
     },
     "metadata": {},
     "output_type": "display_data"
    }
   ],
   "source": [
    "def true_ratio(x):\n",
    "    return scipy.stats.norm(1, 1).pdf(x) / scipy.stats.norm(0, 2).pdf(x)\n",
    "\n",
    "def approximated_ratio(x):\n",
    "    return np.sum([alpha[i] * bases[i](x) for i in range(b)])\n",
    "\n",
    "plt.plot(np.arange(-5, 5, 0.1), [true_ratio(x) for x in np.arange(-5, 5, 0.1)], label='true')\n",
    "plt.plot(np.arange(-5, 5, 0.1), [approximated_ratio(x) for x in np.arange(-5, 5, 0.1)], label='approx')\n",
    "plt.legend()"
   ]
  },
  {
   "cell_type": "code",
   "execution_count": null,
   "metadata": {
    "collapsed": true
   },
   "outputs": [],
   "source": []
  }
 ],
 "metadata": {
  "kernelspec": {
   "display_name": "py36",
   "language": "python",
   "name": "py36"
  },
  "language_info": {
   "codemirror_mode": {
    "name": "ipython",
    "version": 3
   },
   "file_extension": ".py",
   "mimetype": "text/x-python",
   "name": "python",
   "nbconvert_exporter": "python",
   "pygments_lexer": "ipython3",
   "version": "3.6.1"
  }
 },
 "nbformat": 4,
 "nbformat_minor": 2
}
